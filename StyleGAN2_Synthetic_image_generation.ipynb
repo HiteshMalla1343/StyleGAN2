{
  "cells": [
    {
      "cell_type": "markdown",
      "metadata": {
        "id": "view-in-github",
        "colab_type": "text"
      },
      "source": [
        "<a href=\"https://colab.research.google.com/github/HiteshMalla1343/StyleGAN2/blob/main/StyleGAN2_Synthetic_image_generation.ipynb\" target=\"_parent\"><img src=\"https://colab.research.google.com/assets/colab-badge.svg\" alt=\"Open In Colab\"/></a>"
      ]
    },
    {
      "cell_type": "code",
      "execution_count": null,
      "metadata": {
        "id": "qsN5Mc5NALyk"
      },
      "outputs": [],
      "source": [
        "import torch\n",
        "from torch import nn, optim\n",
        "from torchvision import datasets, transforms\n",
        "import torch.nn.functional as F\n",
        "from torch.utils.data import DataLoader\n",
        "from torchvision.utils import save_image\n",
        "from math import log2, sqrt\n",
        "import numpy as np\n",
        "import os\n",
        "from tqdm import tqdm\n",
        "import matplotlib.pyplot as plt"
      ]
    },
    {
      "cell_type": "code",
      "execution_count": null,
      "metadata": {
        "colab": {
          "base_uri": "https://localhost:8080/"
        },
        "id": "YFmbUj4eARFa",
        "outputId": "c82e5ee7-4769-45e7-8f69-e7f0e450825a"
      },
      "outputs": [
        {
          "name": "stdout",
          "output_type": "stream",
          "text": [
            "Mounted at /content/drive\n"
          ]
        }
      ],
      "source": [
        "from google.colab import drive\n",
        "drive.mount('/content/drive')"
      ]
    },
    {
      "cell_type": "code",
      "execution_count": null,
      "metadata": {
        "id": "ROMUtrAGALyl"
      },
      "outputs": [],
      "source": [
        "DATASET                 = \"/content/drive/MyDrive/sat\"\n",
        "DEVICE                  = \"cuda\" if torch.cuda.is_available() else \"cpu\"\n",
        "EPOCHS                  = 300\n",
        "LEARNING_RATE           = 1e-3\n",
        "BATCH_SIZE              = 32\n",
        "LOG_RESOLUTION          = 7 #for 128*128\n",
        "Z_DIM                   = 256\n",
        "W_DIM                   = 256\n",
        "LAMBDA_GP               = 10"
      ]
    },
    {
      "cell_type": "code",
      "execution_count": null,
      "metadata": {
        "id": "ibhBxfeWALym"
      },
      "outputs": [],
      "source": [
        "def get_loader():\n",
        "    transform = transforms.Compose(\n",
        "        [\n",
        "            transforms.Resize((2 ** LOG_RESOLUTION, 2 ** LOG_RESOLUTION)),\n",
        "            transforms.ToTensor(),\n",
        "            transforms.RandomHorizontalFlip(p=0.5),\n",
        "            transforms.Normalize(\n",
        "                [0.5, 0.5, 0.5],\n",
        "                [0.5, 0.5, 0.5],\n",
        "            ),\n",
        "        ]\n",
        "    )\n",
        "    dataset = datasets.ImageFolder(root=DATASET, transform=transform)\n",
        "    loader = DataLoader(\n",
        "        dataset,\n",
        "        batch_size=BATCH_SIZE,\n",
        "        shuffle=True,\n",
        "    )\n",
        "    return loader"
      ]
    },
    {
      "cell_type": "code",
      "execution_count": null,
      "metadata": {
        "id": "Vyp072YmALym"
      },
      "outputs": [],
      "source": [
        "class EqualizedWeight(nn.Module):\n",
        "\n",
        "    def __init__(self, shape):\n",
        "\n",
        "        super().__init__()\n",
        "\n",
        "        self.c = 1 / sqrt(np.prod(shape[1:]))\n",
        "        self.weight = nn.Parameter(torch.randn(shape))\n",
        "\n",
        "    def forward(self):\n",
        "        return self.weight * self.c"
      ]
    },
    {
      "cell_type": "code",
      "execution_count": null,
      "metadata": {
        "id": "qD8oZwOwALyn"
      },
      "outputs": [],
      "source": [
        "class EqualizedLinear(nn.Module):\n",
        "\n",
        "    def __init__(self, in_features, out_features, bias = 0.):\n",
        "\n",
        "        super().__init__()\n",
        "        self.weight = EqualizedWeight([out_features, in_features])\n",
        "        self.bias = nn.Parameter(torch.ones(out_features) * bias)\n",
        "\n",
        "    def forward(self, x: torch.Tensor):\n",
        "        return F.linear(x, self.weight(), bias=self.bias)"
      ]
    },
    {
      "cell_type": "code",
      "execution_count": null,
      "metadata": {
        "id": "yP5-mINGALyn"
      },
      "outputs": [],
      "source": [
        "class EqualizedConv2d(nn.Module):\n",
        "\n",
        "    def __init__(self, in_features, out_features,\n",
        "                 kernel_size, padding = 0):\n",
        "\n",
        "        super().__init__()\n",
        "        self.padding = padding\n",
        "        self.weight = EqualizedWeight([out_features, in_features, kernel_size, kernel_size])\n",
        "        self.bias = nn.Parameter(torch.ones(out_features))\n",
        "\n",
        "    def forward(self, x: torch.Tensor):\n",
        "        return F.conv2d(x, self.weight(), bias=self.bias, padding=self.padding)"
      ]
    },
    {
      "cell_type": "code",
      "execution_count": null,
      "metadata": {
        "id": "1WSf4C94ALyn"
      },
      "outputs": [],
      "source": [
        "class MappingNetwork(nn.Module):\n",
        "    def __init__(self, z_dim, w_dim):\n",
        "        super().__init__()\n",
        "        self.mapping = nn.Sequential(\n",
        "            EqualizedLinear(z_dim, w_dim),\n",
        "            nn.ReLU(),\n",
        "            EqualizedLinear(z_dim, w_dim),\n",
        "            nn.ReLU(),\n",
        "            EqualizedLinear(z_dim, w_dim),\n",
        "            nn.ReLU(),\n",
        "            EqualizedLinear(z_dim, w_dim),\n",
        "            nn.ReLU(),\n",
        "            EqualizedLinear(z_dim, w_dim),\n",
        "            nn.ReLU(),\n",
        "            EqualizedLinear(z_dim, w_dim),\n",
        "            nn.ReLU(),\n",
        "            EqualizedLinear(z_dim, w_dim),\n",
        "            nn.ReLU(),\n",
        "            EqualizedLinear(z_dim, w_dim)\n",
        "        )\n",
        "\n",
        "    def forward(self, x):\n",
        "        x = x / torch.sqrt(torch.mean(x ** 2, dim=1, keepdim=True) + 1e-8)  # for PixelNorm\n",
        "        return self.mapping(x)"
      ]
    },
    {
      "cell_type": "code",
      "execution_count": null,
      "metadata": {
        "id": "Vp3HMFqcALyo"
      },
      "outputs": [],
      "source": [
        "class Conv2dWeightModulate(nn.Module):\n",
        "\n",
        "    def __init__(self, in_features, out_features, kernel_size,\n",
        "                 demodulate = True, eps = 1e-8):\n",
        "\n",
        "        super().__init__()\n",
        "        self.out_features = out_features\n",
        "        self.demodulate = demodulate\n",
        "        self.padding = (kernel_size - 1) // 2\n",
        "\n",
        "        self.weight = EqualizedWeight([out_features, in_features, kernel_size, kernel_size])\n",
        "        self.eps = eps\n",
        "\n",
        "    def forward(self, x, s):\n",
        "\n",
        "        b, _, h, w = x.shape\n",
        "\n",
        "        s = s[:, None, :, None, None]\n",
        "        weights = self.weight()[None, :, :, :, :]\n",
        "        weights = weights * s\n",
        "\n",
        "        if self.demodulate:\n",
        "            sigma_inv = torch.rsqrt((weights ** 2).sum(dim=(2, 3, 4), keepdim=True) + self.eps)\n",
        "            weights = weights * sigma_inv\n",
        "\n",
        "        x = x.reshape(1, -1, h, w)\n",
        "\n",
        "        _, _, *ws = weights.shape\n",
        "        weights = weights.reshape(b * self.out_features, *ws)\n",
        "\n",
        "        x = F.conv2d(x, weights, padding=self.padding, groups=b)\n",
        "\n",
        "        return x.reshape(-1, self.out_features, h, w)\n"
      ]
    },
    {
      "cell_type": "code",
      "execution_count": null,
      "metadata": {
        "id": "cnvkKIYnALyo"
      },
      "outputs": [],
      "source": [
        "class ToRGB(nn.Module):\n",
        "\n",
        "    def __init__(self, W_DIM, features):\n",
        "\n",
        "        super().__init__()\n",
        "        self.to_style = EqualizedLinear(W_DIM, features, bias=1.0)\n",
        "\n",
        "        self.conv = Conv2dWeightModulate(features, 3, kernel_size=1, demodulate=False)\n",
        "        self.bias = nn.Parameter(torch.zeros(3))\n",
        "        self.activation = nn.LeakyReLU(0.2, True)\n",
        "\n",
        "    def forward(self, x, w):\n",
        "\n",
        "        style = self.to_style(w)\n",
        "        x = self.conv(x, style)\n",
        "        return self.activation(x + self.bias[None, :, None, None])"
      ]
    },
    {
      "cell_type": "code",
      "execution_count": null,
      "metadata": {
        "id": "M6ebJKpuALyo"
      },
      "outputs": [],
      "source": [
        "class StyleBlock(nn.Module):\n",
        "\n",
        "    def __init__(self, W_DIM, in_features, out_features):\n",
        "\n",
        "        super().__init__()\n",
        "\n",
        "        self.to_style = EqualizedLinear(W_DIM, in_features, bias=1.0)\n",
        "        self.conv = Conv2dWeightModulate(in_features, out_features, kernel_size=3)\n",
        "        self.scale_noise = nn.Parameter(torch.zeros(1))\n",
        "        self.bias = nn.Parameter(torch.zeros(out_features))\n",
        "\n",
        "        self.activation = nn.LeakyReLU(0.2, True)\n",
        "\n",
        "    def forward(self, x, w, noise):\n",
        "\n",
        "        s = self.to_style(w)\n",
        "        x = self.conv(x, s)\n",
        "        if noise is not None:\n",
        "            x = x + self.scale_noise[None, :, None, None] * noise\n",
        "        return self.activation(x + self.bias[None, :, None, None])"
      ]
    },
    {
      "cell_type": "code",
      "execution_count": null,
      "metadata": {
        "id": "YXp3nafRALyp"
      },
      "outputs": [],
      "source": [
        "class GeneratorBlock(nn.Module):\n",
        "\n",
        "    def __init__(self, W_DIM, in_features, out_features):\n",
        "\n",
        "        super().__init__()\n",
        "\n",
        "        self.style_block1 = StyleBlock(W_DIM, in_features, out_features)\n",
        "        self.style_block2 = StyleBlock(W_DIM, out_features, out_features)\n",
        "\n",
        "        self.to_rgb = ToRGB(W_DIM, out_features)\n",
        "\n",
        "    def forward(self, x, w, noise):\n",
        "\n",
        "        x = self.style_block1(x, w, noise[0])\n",
        "        x = self.style_block2(x, w, noise[1])\n",
        "\n",
        "        rgb = self.to_rgb(x, w)\n",
        "\n",
        "        return x, rgb\n"
      ]
    },
    {
      "cell_type": "code",
      "execution_count": null,
      "metadata": {
        "id": "QXDkx1LDALyp"
      },
      "outputs": [],
      "source": [
        "class Generator(nn.Module):\n",
        "\n",
        "    def __init__(self, log_resolution, W_DIM, n_features = 32, max_features = 256):\n",
        "\n",
        "        super().__init__()\n",
        "\n",
        "        features = [min(max_features, n_features * (2 ** i)) for i in range(log_resolution - 2, -1, -1)]\n",
        "        self.n_blocks = len(features)\n",
        "\n",
        "        self.initial_constant = nn.Parameter(torch.randn((1, features[0], 4, 4)))\n",
        "\n",
        "        self.style_block = StyleBlock(W_DIM, features[0], features[0])\n",
        "        self.to_rgb = ToRGB(W_DIM, features[0])\n",
        "\n",
        "        blocks = [GeneratorBlock(W_DIM, features[i - 1], features[i]) for i in range(1, self.n_blocks)]\n",
        "        self.blocks = nn.ModuleList(blocks)\n",
        "\n",
        "    def forward(self, w, input_noise):\n",
        "\n",
        "        batch_size = w.shape[1]\n",
        "\n",
        "        x = self.initial_constant.expand(batch_size, -1, -1, -1)\n",
        "        x = self.style_block(x, w[0], input_noise[0][1])\n",
        "        rgb = self.to_rgb(x, w[0])\n",
        "\n",
        "        for i in range(1, self.n_blocks):\n",
        "            x = F.interpolate(x, scale_factor=2, mode=\"bilinear\")\n",
        "            x, rgb_new = self.blocks[i - 1](x, w[i], input_noise[i])\n",
        "            rgb = F.interpolate(rgb, scale_factor=2, mode=\"bilinear\") + rgb_new\n",
        "\n",
        "        return torch.tanh(rgb)"
      ]
    },
    {
      "cell_type": "code",
      "execution_count": null,
      "metadata": {
        "id": "scC01yIeALyp"
      },
      "outputs": [],
      "source": [
        "class DiscriminatorBlock(nn.Module):\n",
        "\n",
        "    def __init__(self, in_features, out_features):\n",
        "        super().__init__()\n",
        "        self.residual = nn.Sequential(nn.AvgPool2d(kernel_size=2, stride=2), # down sampling using avg pool\n",
        "                                      EqualizedConv2d(in_features, out_features, kernel_size=1))\n",
        "\n",
        "        self.block = nn.Sequential(\n",
        "            EqualizedConv2d(in_features, in_features, kernel_size=3, padding=1),\n",
        "            nn.LeakyReLU(0.2, True),\n",
        "            EqualizedConv2d(in_features, out_features, kernel_size=3, padding=1),\n",
        "            nn.LeakyReLU(0.2, True),\n",
        "        )\n",
        "\n",
        "        self.down_sample = nn.AvgPool2d(\n",
        "            kernel_size=2, stride=2\n",
        "        )  # down sampling using avg pool\n",
        "\n",
        "        self.scale = 1 / sqrt(2)\n",
        "\n",
        "    def forward(self, x):\n",
        "        residual = self.residual(x)\n",
        "\n",
        "        x = self.block(x)\n",
        "        x = self.down_sample(x)\n",
        "\n",
        "        return (x + residual) * self.scale"
      ]
    },
    {
      "cell_type": "code",
      "execution_count": null,
      "metadata": {
        "id": "h22oxWfZALyq"
      },
      "outputs": [],
      "source": [
        "class Discriminator(nn.Module):\n",
        "\n",
        "    def __init__(self, log_resolution, n_features = 64, max_features = 256):\n",
        "\n",
        "        super().__init__()\n",
        "\n",
        "        features = [min(max_features, n_features * (2 ** i)) for i in range(log_resolution - 1)]\n",
        "\n",
        "        self.from_rgb = nn.Sequential(\n",
        "            EqualizedConv2d(3, n_features, 1),\n",
        "            nn.LeakyReLU(0.2, True),\n",
        "        )\n",
        "        n_blocks = len(features) - 1\n",
        "        blocks = [DiscriminatorBlock(features[i], features[i + 1]) for i in range(n_blocks)]\n",
        "        self.blocks = nn.Sequential(*blocks)\n",
        "\n",
        "        final_features = features[-1] + 1\n",
        "        self.conv = EqualizedConv2d(final_features, final_features, 3)\n",
        "        self.final = EqualizedLinear(2 * 2 * final_features, 1)\n",
        "\n",
        "    def minibatch_std(self, x):\n",
        "        batch_statistics = (\n",
        "            torch.std(x, dim=0).mean().repeat(x.shape[0], 1, x.shape[2], x.shape[3])\n",
        "        )\n",
        "        return torch.cat([x, batch_statistics], dim=1)\n",
        "\n",
        "    def forward(self, x):\n",
        "\n",
        "        x = self.from_rgb(x)\n",
        "        x = self.blocks(x)\n",
        "\n",
        "        x = self.minibatch_std(x)\n",
        "        x = self.conv(x)\n",
        "        x = x.reshape(x.shape[0], -1)\n",
        "        return self.final(x)"
      ]
    },
    {
      "cell_type": "code",
      "execution_count": null,
      "metadata": {
        "id": "rhZIbdlyALyq"
      },
      "outputs": [],
      "source": [
        "class PathLengthPenalty(nn.Module):\n",
        "\n",
        "    def __init__(self, beta):\n",
        "\n",
        "        super().__init__()\n",
        "\n",
        "        self.beta = beta\n",
        "        self.steps = nn.Parameter(torch.tensor(0.), requires_grad=False)\n",
        "\n",
        "        self.exp_sum_a = nn.Parameter(torch.tensor(0.), requires_grad=False)\n",
        "\n",
        "    def forward(self, w, x):\n",
        "\n",
        "        device = x.device\n",
        "        image_size = x.shape[2] * x.shape[3]\n",
        "        y = torch.randn(x.shape, device=device)\n",
        "\n",
        "        output = (x * y).sum() / sqrt(image_size)\n",
        "        sqrt(image_size)\n",
        "\n",
        "        gradients, *_ = torch.autograd.grad(outputs=output,\n",
        "                                            inputs=w,\n",
        "                                            grad_outputs=torch.ones(output.shape, device=device),\n",
        "                                            create_graph=True)\n",
        "\n",
        "        norm = (gradients ** 2).sum(dim=2).mean(dim=1).sqrt()\n",
        "\n",
        "        if self.steps > 0:\n",
        "\n",
        "            a = self.exp_sum_a / (1 - self.beta ** self.steps)\n",
        "\n",
        "            loss = torch.mean((norm - a) ** 2)\n",
        "        else:\n",
        "            loss = norm.new_tensor(0)\n",
        "\n",
        "        mean = norm.mean().detach()\n",
        "        self.exp_sum_a.mul_(self.beta).add_(mean, alpha=1 - self.beta)\n",
        "        self.steps.add_(1.)\n",
        "\n",
        "        return loss"
      ]
    },
    {
      "cell_type": "code",
      "execution_count": null,
      "metadata": {
        "id": "Y5gGiwuZALyq"
      },
      "outputs": [],
      "source": [
        "def gradient_penalty(critic, real, fake,device=\"cpu\"):\n",
        "    BATCH_SIZE, C, H, W = real.shape\n",
        "    beta = torch.rand((BATCH_SIZE, 1, 1, 1)).repeat(1, C, H, W).to(device)\n",
        "    interpolated_images = real * beta + fake.detach() * (1 - beta)\n",
        "    interpolated_images.requires_grad_(True)\n",
        "\n",
        "    # Calculate critic scores\n",
        "    mixed_scores = critic(interpolated_images)\n",
        "\n",
        "    # Take the gradient of the scores with respect to the images\n",
        "    gradient = torch.autograd.grad(\n",
        "        inputs=interpolated_images,\n",
        "        outputs=mixed_scores,\n",
        "        grad_outputs=torch.ones_like(mixed_scores),\n",
        "        create_graph=True,\n",
        "        retain_graph=True,\n",
        "    )[0]\n",
        "    gradient = gradient.view(gradient.shape[0], -1)\n",
        "    gradient_norm = gradient.norm(2, dim=1)\n",
        "    gradient_penalty = torch.mean((gradient_norm - 1) ** 2)\n",
        "    return gradient_penalty\n"
      ]
    },
    {
      "cell_type": "code",
      "execution_count": null,
      "metadata": {
        "id": "bU5GLS2jALyq"
      },
      "outputs": [],
      "source": [
        "def get_w(batch_size):\n",
        "\n",
        "    z = torch.randn(batch_size, W_DIM).to(DEVICE)\n",
        "    w = mapping_network(z)\n",
        "    return w[None, :, :].expand(LOG_RESOLUTION, -1, -1)\n"
      ]
    },
    {
      "cell_type": "code",
      "execution_count": null,
      "metadata": {
        "id": "2_idRsopALyr"
      },
      "outputs": [],
      "source": [
        "def get_noise(batch_size):\n",
        "\n",
        "        noise = []\n",
        "        resolution = 4\n",
        "\n",
        "        for i in range(LOG_RESOLUTION):\n",
        "            if i == 0:\n",
        "                n1 = None\n",
        "            else:\n",
        "                n1 = torch.randn(batch_size, 1, resolution, resolution, device=DEVICE)\n",
        "            n2 = torch.randn(batch_size, 1, resolution, resolution, device=DEVICE)\n",
        "\n",
        "            noise.append((n1, n2))\n",
        "\n",
        "            resolution *= 2\n",
        "\n",
        "        return noise"
      ]
    },
    {
      "cell_type": "code",
      "execution_count": null,
      "metadata": {
        "id": "zsZr4dUnALyr"
      },
      "outputs": [],
      "source": [
        "def generate_examples(gen, epoch, n=10):\n",
        "\n",
        "    gen.eval()\n",
        "    alpha = 1.0\n",
        "    for i in range(n):\n",
        "        with torch.no_grad():\n",
        "            w     = get_w(1)\n",
        "            noise = get_noise(1)\n",
        "            img = gen(w, noise)\n",
        "            if not os.path.exists(f'saved_examples/epoch{epoch}'):\n",
        "                os.makedirs(f'saved_examples/epoch{epoch}')\n",
        "            save_image(img*0.5+0.5, f\"saved_examples/epoch{epoch}/img_{i}.png\")\n",
        "\n",
        "    gen.train()"
      ]
    },
    {
      "cell_type": "code",
      "execution_count": null,
      "metadata": {
        "id": "_EaZuAO2ALyr"
      },
      "outputs": [],
      "source": [
        "def train_fn(\n",
        "    critic,\n",
        "    gen,\n",
        "    path_length_penalty,\n",
        "    loader,\n",
        "    opt_critic,\n",
        "    opt_gen,\n",
        "    opt_mapping_network,\n",
        "):\n",
        "    loop = tqdm(loader, leave=True)\n",
        "\n",
        "    for batch_idx, (real, _) in enumerate(loop):\n",
        "        real = real.to(DEVICE)\n",
        "        cur_batch_size = real.shape[0]\n",
        "\n",
        "        w     = get_w(cur_batch_size)\n",
        "        noise = get_noise(cur_batch_size)\n",
        "        with torch.cuda.amp.autocast():\n",
        "            fake = gen(w, noise)\n",
        "            critic_fake = critic(fake.detach())\n",
        "\n",
        "            critic_real = critic(real)\n",
        "            gp = gradient_penalty(critic, real, fake, device=DEVICE)\n",
        "            loss_critic = (\n",
        "                -(torch.mean(critic_real) - torch.mean(critic_fake))\n",
        "                + LAMBDA_GP * gp\n",
        "                + (0.001 * torch.mean(critic_real ** 2))\n",
        "            )\n",
        "\n",
        "        critic.zero_grad()\n",
        "        loss_critic.backward()\n",
        "        opt_critic.step()\n",
        "\n",
        "        gen_fake = critic(fake)\n",
        "        loss_gen = -torch.mean(gen_fake)\n",
        "\n",
        "        if batch_idx % 16 == 0:\n",
        "            plp = path_length_penalty(w, fake)\n",
        "            if not torch.isnan(plp):\n",
        "                loss_gen = loss_gen + plp\n",
        "\n",
        "        mapping_network.zero_grad()\n",
        "        gen.zero_grad()\n",
        "        loss_gen.backward()\n",
        "        opt_gen.step()\n",
        "        opt_mapping_network.step()\n",
        "\n",
        "        loop.set_postfix(\n",
        "            gp=gp.item(),\n",
        "            loss_critic=loss_critic.item(),\n",
        "        )\n"
      ]
    },
    {
      "cell_type": "code",
      "execution_count": null,
      "metadata": {
        "colab": {
          "base_uri": "https://localhost:8080/"
        },
        "id": "RQyJ9JJKALys",
        "outputId": "dcd26541-21e8-43dc-a181-1f9ca7492c2d"
      },
      "outputs": [
        {
          "data": {
            "text/plain": [
              "MappingNetwork(\n",
              "  (mapping): Sequential(\n",
              "    (0): EqualizedLinear(\n",
              "      (weight): EqualizedWeight()\n",
              "    )\n",
              "    (1): ReLU()\n",
              "    (2): EqualizedLinear(\n",
              "      (weight): EqualizedWeight()\n",
              "    )\n",
              "    (3): ReLU()\n",
              "    (4): EqualizedLinear(\n",
              "      (weight): EqualizedWeight()\n",
              "    )\n",
              "    (5): ReLU()\n",
              "    (6): EqualizedLinear(\n",
              "      (weight): EqualizedWeight()\n",
              "    )\n",
              "    (7): ReLU()\n",
              "    (8): EqualizedLinear(\n",
              "      (weight): EqualizedWeight()\n",
              "    )\n",
              "    (9): ReLU()\n",
              "    (10): EqualizedLinear(\n",
              "      (weight): EqualizedWeight()\n",
              "    )\n",
              "    (11): ReLU()\n",
              "    (12): EqualizedLinear(\n",
              "      (weight): EqualizedWeight()\n",
              "    )\n",
              "    (13): ReLU()\n",
              "    (14): EqualizedLinear(\n",
              "      (weight): EqualizedWeight()\n",
              "    )\n",
              "  )\n",
              ")"
            ]
          },
          "execution_count": 61,
          "metadata": {},
          "output_type": "execute_result"
        }
      ],
      "source": [
        "loader              = get_loader()\n",
        "\n",
        "gen                 = Generator(LOG_RESOLUTION, W_DIM).to(DEVICE)\n",
        "critic              = Discriminator(LOG_RESOLUTION).to(DEVICE)\n",
        "mapping_network     = MappingNetwork(Z_DIM, W_DIM).to(DEVICE)\n",
        "path_length_penalty = PathLengthPenalty(0.99).to(DEVICE)\n",
        "\n",
        "opt_gen             = optim.Adam(gen.parameters(), lr=LEARNING_RATE, betas=(0.0, 0.99))\n",
        "opt_critic          = optim.Adam(critic.parameters(), lr=LEARNING_RATE, betas=(0.0, 0.99))\n",
        "opt_mapping_network = optim.Adam(mapping_network.parameters(), lr=LEARNING_RATE, betas=(0.0, 0.99))\n",
        "\n",
        "gen.train()\n",
        "critic.train()\n",
        "mapping_network.train()"
      ]
    },
    {
      "cell_type": "code",
      "execution_count": null,
      "metadata": {
        "id": "4z7RUgdEALys"
      },
      "outputs": [],
      "source": [
        "EPOCHS=100"
      ]
    },
    {
      "cell_type": "code",
      "execution_count": null,
      "metadata": {
        "colab": {
          "base_uri": "https://localhost:8080/"
        },
        "id": "TqQSGQMgALyt",
        "outputId": "ffc64b1d-3bf9-4ba0-c844-efe34da433e9"
      },
      "outputs": [
        {
          "name": "stderr",
          "output_type": "stream",
          "text": [
            "100%|██████████| 195/195 [04:36<00:00,  1.42s/it, gp=0.448, loss_critic=2.54]\n"
          ]
        }
      ],
      "source": [
        "loader = get_loader()\n",
        "\n",
        "for epoch in range(EPOCHS):\n",
        "    train_fn(\n",
        "        critic,\n",
        "        gen,\n",
        "        path_length_penalty,\n",
        "        loader,\n",
        "        opt_critic,\n",
        "        opt_gen,\n",
        "        opt_mapping_network,\n",
        "    )\n",
        "    if epoch % 40 == 0:\n",
        "    \tgenerate_examples(gen, epoch)"
      ]
    },
    {
      "cell_type": "code",
      "execution_count": null,
      "metadata": {
        "colab": {
          "base_uri": "https://localhost:8080/"
        },
        "id": "3-S6EAoUm_hp",
        "outputId": "6e53f275-fb29-4bed-fad5-fda6729f1c0b"
      },
      "outputs": [
        {
          "name": "stderr",
          "output_type": "stream",
          "text": [
            "100%|██████████| 195/195 [02:36<00:00,  1.25it/s, gp=0.32, loss_critic=10.6]\n",
            "100%|██████████| 195/195 [02:36<00:00,  1.25it/s, gp=0.0599, loss_critic=-3.6]\n",
            "100%|██████████| 195/195 [02:36<00:00,  1.25it/s, gp=0.232, loss_critic=2.99]\n",
            "100%|██████████| 195/195 [02:36<00:00,  1.25it/s, gp=0.0734, loss_critic=0.604]\n",
            "100%|██████████| 195/195 [02:35<00:00,  1.25it/s, gp=0.0244, loss_critic=-0.685]\n",
            "100%|██████████| 195/195 [02:36<00:00,  1.25it/s, gp=0.0326, loss_critic=-0.882]\n",
            "100%|██████████| 195/195 [02:36<00:00,  1.25it/s, gp=0.00696, loss_critic=-0.863]\n",
            "100%|██████████| 195/195 [02:35<00:00,  1.25it/s, gp=0.0307, loss_critic=-8.46]\n",
            "100%|██████████| 195/195 [02:36<00:00,  1.25it/s, gp=0.0215, loss_critic=4.59]\n",
            "100%|██████████| 195/195 [02:36<00:00,  1.25it/s, gp=0.0339, loss_critic=-0.164]\n",
            "100%|██████████| 195/195 [02:35<00:00,  1.25it/s, gp=0.0279, loss_critic=-1.15]\n",
            "100%|██████████| 195/195 [02:35<00:00,  1.25it/s, gp=0.0102, loss_critic=0.853]\n",
            "100%|██████████| 195/195 [02:35<00:00,  1.25it/s, gp=0.0158, loss_critic=-0.0603]\n",
            "100%|██████████| 195/195 [02:34<00:00,  1.26it/s, gp=0.00291, loss_critic=4]\n",
            "100%|██████████| 195/195 [02:36<00:00,  1.25it/s, gp=0.0175, loss_critic=1.42]\n",
            "100%|██████████| 195/195 [02:35<00:00,  1.25it/s, gp=0.0118, loss_critic=0.0961]\n",
            "100%|██████████| 195/195 [02:36<00:00,  1.24it/s, gp=0.00386, loss_critic=-0.349]\n",
            "100%|██████████| 195/195 [02:36<00:00,  1.24it/s, gp=0.0104, loss_critic=0.308]\n",
            "100%|██████████| 195/195 [02:35<00:00,  1.25it/s, gp=0.00197, loss_critic=-0.39]\n",
            "100%|██████████| 195/195 [02:35<00:00,  1.25it/s, gp=0.00141, loss_critic=-0.0634]\n",
            "100%|██████████| 195/195 [02:36<00:00,  1.25it/s, gp=0.00166, loss_critic=0.871]\n",
            "100%|██████████| 195/195 [02:35<00:00,  1.25it/s, gp=0.00066, loss_critic=0.297]\n",
            "100%|██████████| 195/195 [02:36<00:00,  1.25it/s, gp=0.000654, loss_critic=0.716]\n",
            "100%|██████████| 195/195 [02:36<00:00,  1.25it/s, gp=0.00352, loss_critic=0.307]\n",
            "100%|██████████| 195/195 [02:36<00:00,  1.25it/s, gp=0.00068, loss_critic=-0.146]\n",
            "100%|██████████| 195/195 [02:36<00:00,  1.25it/s, gp=0.000586, loss_critic=0.206]\n",
            "100%|██████████| 195/195 [02:35<00:00,  1.25it/s, gp=0.00055, loss_critic=-0.242]\n",
            "100%|██████████| 195/195 [02:36<00:00,  1.25it/s, gp=0.000951, loss_critic=0.293]\n",
            "100%|██████████| 195/195 [02:36<00:00,  1.25it/s, gp=0.00176, loss_critic=0.131]\n",
            "100%|██████████| 195/195 [02:36<00:00,  1.24it/s, gp=0.000621, loss_critic=-0.234]\n",
            "100%|██████████| 195/195 [02:36<00:00,  1.24it/s, gp=0.00123, loss_critic=0.605]\n",
            "100%|██████████| 195/195 [02:40<00:00,  1.22it/s, gp=0.00108, loss_critic=-0.085]\n",
            "100%|██████████| 195/195 [02:40<00:00,  1.21it/s, gp=0.00166, loss_critic=0.348]\n",
            "100%|██████████| 195/195 [02:38<00:00,  1.23it/s, gp=0.000385, loss_critic=0.38]\n",
            "100%|██████████| 195/195 [02:39<00:00,  1.22it/s, gp=0.000345, loss_critic=-0.285]\n",
            "100%|██████████| 195/195 [02:37<00:00,  1.24it/s, gp=0.000117, loss_critic=-0.0131]\n",
            "100%|██████████| 195/195 [02:36<00:00,  1.25it/s, gp=0.00308, loss_critic=-1.19]\n",
            "100%|██████████| 195/195 [02:36<00:00,  1.25it/s, gp=0.000357, loss_critic=-0.188]\n",
            "100%|██████████| 195/195 [02:35<00:00,  1.25it/s, gp=0.000803, loss_critic=-0.161]\n",
            "100%|██████████| 195/195 [02:36<00:00,  1.25it/s, gp=0.000272, loss_critic=-0.272]\n",
            "100%|██████████| 195/195 [02:35<00:00,  1.25it/s, gp=0.000573, loss_critic=-0.0244]\n",
            "100%|██████████| 195/195 [02:36<00:00,  1.25it/s, gp=0.000561, loss_critic=0.569]\n",
            "100%|██████████| 195/195 [02:35<00:00,  1.25it/s, gp=0.00106, loss_critic=0.544]\n",
            "100%|██████████| 195/195 [02:35<00:00,  1.25it/s, gp=0.00117, loss_critic=0.337]\n",
            "100%|██████████| 195/195 [02:36<00:00,  1.25it/s, gp=0.00107, loss_critic=0.0317]\n",
            "100%|██████████| 195/195 [02:35<00:00,  1.25it/s, gp=0.0022, loss_critic=0.0999]\n",
            "100%|██████████| 195/195 [02:35<00:00,  1.25it/s, gp=0.00177, loss_critic=0.301]\n",
            "100%|██████████| 195/195 [02:36<00:00,  1.25it/s, gp=0.00761, loss_critic=-1.17]\n",
            "100%|██████████| 195/195 [02:35<00:00,  1.25it/s, gp=0.0034, loss_critic=-0.493]\n",
            "100%|██████████| 195/195 [02:36<00:00,  1.25it/s, gp=0.00131, loss_critic=0.516]\n",
            "100%|██████████| 195/195 [02:36<00:00,  1.25it/s, gp=0.00441, loss_critic=0.163]\n",
            "100%|██████████| 195/195 [02:36<00:00,  1.25it/s, gp=0.00226, loss_critic=-0.364]\n",
            "100%|██████████| 195/195 [02:35<00:00,  1.25it/s, gp=0.00399, loss_critic=-0.132]\n",
            "100%|██████████| 195/195 [02:36<00:00,  1.25it/s, gp=0.00368, loss_critic=-0.313]\n",
            "100%|██████████| 195/195 [02:35<00:00,  1.25it/s, gp=0.0056, loss_critic=0.363]\n",
            "100%|██████████| 195/195 [02:35<00:00,  1.25it/s, gp=0.0011, loss_critic=0.173]\n",
            "100%|██████████| 195/195 [02:36<00:00,  1.25it/s, gp=0.00238, loss_critic=-0.721]\n",
            "100%|██████████| 195/195 [02:36<00:00,  1.25it/s, gp=0.00283, loss_critic=0.15]\n",
            "100%|██████████| 195/195 [02:36<00:00,  1.25it/s, gp=0.00453, loss_critic=-1.23]\n",
            "100%|██████████| 195/195 [02:36<00:00,  1.24it/s, gp=0.00397, loss_critic=0.0215]\n",
            "100%|██████████| 195/195 [02:36<00:00,  1.25it/s, gp=0.00873, loss_critic=0.314]\n",
            "100%|██████████| 195/195 [02:35<00:00,  1.25it/s, gp=0.00778, loss_critic=-0.000462]\n",
            "100%|██████████| 195/195 [02:36<00:00,  1.25it/s, gp=0.00254, loss_critic=0.179]\n",
            "100%|██████████| 195/195 [02:35<00:00,  1.25it/s, gp=0.0126, loss_critic=-0.363]\n",
            "100%|██████████| 195/195 [02:35<00:00,  1.25it/s, gp=0.0122, loss_critic=-0.895]\n",
            "100%|██████████| 195/195 [02:35<00:00,  1.25it/s, gp=0.0226, loss_critic=2.47]\n",
            "100%|██████████| 195/195 [02:35<00:00,  1.25it/s, gp=0.00659, loss_critic=0.568]\n",
            "100%|██████████| 195/195 [02:36<00:00,  1.24it/s, gp=0.0028, loss_critic=0.318]\n",
            "100%|██████████| 195/195 [02:36<00:00,  1.24it/s, gp=0.0115, loss_critic=-1.57]\n",
            "100%|██████████| 195/195 [02:36<00:00,  1.24it/s, gp=0.0102, loss_critic=-1.86]\n",
            "100%|██████████| 195/195 [02:35<00:00,  1.25it/s, gp=0.0116, loss_critic=-1.49]\n",
            "100%|██████████| 195/195 [02:36<00:00,  1.25it/s, gp=0.0247, loss_critic=0.399]\n",
            "100%|██████████| 195/195 [02:36<00:00,  1.24it/s, gp=0.0183, loss_critic=-1.5]\n",
            "100%|██████████| 195/195 [02:35<00:00,  1.25it/s, gp=0.0281, loss_critic=-1.42]\n",
            "100%|██████████| 195/195 [02:35<00:00,  1.25it/s, gp=0.00487, loss_critic=1.92]\n",
            "100%|██████████| 195/195 [02:35<00:00,  1.25it/s, gp=0.00895, loss_critic=0.183]\n",
            "100%|██████████| 195/195 [02:35<00:00,  1.25it/s, gp=0.0195, loss_critic=0.5]\n",
            "100%|██████████| 195/195 [02:36<00:00,  1.25it/s, gp=0.0163, loss_critic=-1.4]\n",
            "100%|██████████| 195/195 [02:35<00:00,  1.25it/s, gp=0.00409, loss_critic=-0.289]\n",
            "100%|██████████| 195/195 [02:38<00:00,  1.23it/s, gp=0.0138, loss_critic=-1.04]\n",
            "100%|██████████| 195/195 [02:35<00:00,  1.25it/s, gp=0.0224, loss_critic=0.134]\n",
            "100%|██████████| 195/195 [02:35<00:00,  1.26it/s, gp=0.0269, loss_critic=-1.23]\n",
            "100%|██████████| 195/195 [02:36<00:00,  1.25it/s, gp=0.0138, loss_critic=-0.0635]\n",
            "100%|██████████| 195/195 [02:36<00:00,  1.25it/s, gp=0.00975, loss_critic=-1.07]\n",
            "100%|██████████| 195/195 [02:35<00:00,  1.25it/s, gp=0.0216, loss_critic=-3.2]\n",
            "100%|██████████| 195/195 [02:35<00:00,  1.25it/s, gp=0.00714, loss_critic=-0.954]\n",
            "100%|██████████| 195/195 [02:35<00:00,  1.25it/s, gp=0.0214, loss_critic=-0.185]\n",
            "100%|██████████| 195/195 [02:35<00:00,  1.25it/s, gp=0.00722, loss_critic=-0.898]\n",
            "100%|██████████| 195/195 [02:36<00:00,  1.25it/s, gp=0.0195, loss_critic=0.938]\n",
            "100%|██████████| 195/195 [02:35<00:00,  1.25it/s, gp=0.0179, loss_critic=0.752]\n",
            "100%|██████████| 195/195 [02:35<00:00,  1.25it/s, gp=0.00921, loss_critic=-1.2]\n",
            "100%|██████████| 195/195 [02:35<00:00,  1.25it/s, gp=0.00888, loss_critic=-0.41]\n",
            "100%|██████████| 195/195 [02:35<00:00,  1.25it/s, gp=0.0299, loss_critic=-0.725]\n",
            "100%|██████████| 195/195 [02:35<00:00,  1.25it/s, gp=0.0145, loss_critic=-0.237]\n",
            "100%|██████████| 195/195 [02:34<00:00,  1.26it/s, gp=0.012, loss_critic=-0.675]\n",
            "100%|██████████| 195/195 [02:34<00:00,  1.27it/s, gp=0.0204, loss_critic=0.484]\n",
            "100%|██████████| 195/195 [02:34<00:00,  1.26it/s, gp=0.0182, loss_critic=1.37]\n",
            "100%|██████████| 195/195 [02:35<00:00,  1.26it/s, gp=0.0102, loss_critic=0.633]\n",
            "100%|██████████| 195/195 [02:35<00:00,  1.25it/s, gp=0.0104, loss_critic=-0.865]\n",
            "100%|██████████| 195/195 [02:35<00:00,  1.26it/s, gp=0.0155, loss_critic=-2.84]\n"
          ]
        }
      ],
      "source": [
        "for epoch in range(EPOCHS):\n",
        "    train_fn(\n",
        "        critic,\n",
        "        gen,\n",
        "        path_length_penalty,\n",
        "        loader,\n",
        "        opt_critic,\n",
        "        opt_gen,\n",
        "        opt_mapping_network,\n",
        "    )\n",
        "    if epoch % 40 == 0:\n",
        "    \tgenerate_examples(gen, epoch)"
      ]
    },
    {
      "cell_type": "code",
      "execution_count": 66,
      "metadata": {
        "colab": {
          "base_uri": "https://localhost:8080/",
          "height": 1000
        },
        "id": "4sZCAva7YDoP",
        "outputId": "070ef88f-3dc9-4384-b3f8-c58d029970df"
      },
      "outputs": [
        {
          "output_type": "stream",
          "name": "stderr",
          "text": [
            "100%|██████████| 195/195 [02:35<00:00,  1.26it/s, gp=0.0389, loss_critic=-1.02]\n",
            "100%|██████████| 195/195 [02:36<00:00,  1.25it/s, gp=0.0122, loss_critic=-1.45]\n",
            "100%|██████████| 195/195 [02:35<00:00,  1.25it/s, gp=0.023, loss_critic=-0.874]\n",
            "100%|██████████| 195/195 [02:35<00:00,  1.26it/s, gp=0.0125, loss_critic=-0.648]\n",
            "100%|██████████| 195/195 [02:35<00:00,  1.25it/s, gp=0.0113, loss_critic=-0.792]\n",
            "100%|██████████| 195/195 [02:35<00:00,  1.25it/s, gp=0.0079, loss_critic=-1.29]\n",
            "100%|██████████| 195/195 [02:35<00:00,  1.25it/s, gp=0.025, loss_critic=-0.476]\n",
            "100%|██████████| 195/195 [02:35<00:00,  1.25it/s, gp=0.00303, loss_critic=-1.25]\n",
            "100%|██████████| 195/195 [02:35<00:00,  1.25it/s, gp=0.0126, loss_critic=-0.619]\n",
            "100%|██████████| 195/195 [02:36<00:00,  1.25it/s, gp=0.0271, loss_critic=1.46]\n",
            "100%|██████████| 195/195 [02:35<00:00,  1.25it/s, gp=0.0138, loss_critic=-1.2]\n",
            "100%|██████████| 195/195 [02:35<00:00,  1.25it/s, gp=0.0139, loss_critic=-3.4]\n",
            "100%|██████████| 195/195 [02:35<00:00,  1.25it/s, gp=0.00864, loss_critic=-0.68]\n",
            "100%|██████████| 195/195 [02:36<00:00,  1.25it/s, gp=0.0137, loss_critic=-0.35]\n",
            "100%|██████████| 195/195 [02:35<00:00,  1.25it/s, gp=0.0193, loss_critic=-2.02]\n",
            "100%|██████████| 195/195 [02:35<00:00,  1.26it/s, gp=0.0886, loss_critic=1.2]\n",
            "100%|██████████| 195/195 [02:35<00:00,  1.25it/s, gp=0.00409, loss_critic=-1.19]\n",
            "100%|██████████| 195/195 [02:35<00:00,  1.26it/s, gp=0.00618, loss_critic=0.327]\n",
            "100%|██████████| 195/195 [02:35<00:00,  1.26it/s, gp=0.00412, loss_critic=-0.405]\n",
            "100%|██████████| 195/195 [02:35<00:00,  1.26it/s, gp=0.00612, loss_critic=-2.02]\n",
            "100%|██████████| 195/195 [02:35<00:00,  1.25it/s, gp=0.00572, loss_critic=-0.48]\n",
            "100%|██████████| 195/195 [02:36<00:00,  1.25it/s, gp=0.0155, loss_critic=-2.4]\n",
            "100%|██████████| 195/195 [02:35<00:00,  1.25it/s, gp=0.0291, loss_critic=-0.605]\n",
            "100%|██████████| 195/195 [02:35<00:00,  1.25it/s, gp=0.0157, loss_critic=-1.82]\n",
            "100%|██████████| 195/195 [02:37<00:00,  1.24it/s, gp=0.0246, loss_critic=-1.46]\n",
            "100%|██████████| 195/195 [02:37<00:00,  1.24it/s, gp=0.0132, loss_critic=-0.0405]\n",
            "100%|██████████| 195/195 [02:36<00:00,  1.25it/s, gp=0.0189, loss_critic=-2.05]\n",
            "100%|██████████| 195/195 [02:36<00:00,  1.25it/s, gp=0.0171, loss_critic=-0.977]\n",
            "100%|██████████| 195/195 [02:36<00:00,  1.25it/s, gp=0.0112, loss_critic=-0.227]\n",
            "100%|██████████| 195/195 [02:35<00:00,  1.25it/s, gp=0.0232, loss_critic=-1.55]\n",
            "100%|██████████| 195/195 [02:35<00:00,  1.25it/s, gp=0.0136, loss_critic=-1.19]\n",
            "100%|██████████| 195/195 [02:35<00:00,  1.25it/s, gp=0.0133, loss_critic=-1.89]\n",
            "100%|██████████| 195/195 [02:36<00:00,  1.25it/s, gp=0.0118, loss_critic=-1.48]\n",
            "100%|██████████| 195/195 [02:35<00:00,  1.25it/s, gp=0.0101, loss_critic=-1.28]\n",
            "100%|██████████| 195/195 [02:35<00:00,  1.26it/s, gp=0.00437, loss_critic=-0.32]\n",
            "100%|██████████| 195/195 [02:35<00:00,  1.25it/s, gp=0.0193, loss_critic=-0.596]\n",
            "100%|██████████| 195/195 [02:35<00:00,  1.25it/s, gp=0.0115, loss_critic=-2.55]\n",
            "100%|██████████| 195/195 [02:35<00:00,  1.25it/s, gp=0.0349, loss_critic=-2.75]\n",
            "100%|██████████| 195/195 [02:35<00:00,  1.25it/s, gp=0.0139, loss_critic=-2.21]\n",
            "100%|██████████| 195/195 [02:35<00:00,  1.25it/s, gp=0.0367, loss_critic=-2.18]\n",
            "100%|██████████| 195/195 [02:36<00:00,  1.25it/s, gp=0.0168, loss_critic=-1.52]\n",
            "100%|██████████| 195/195 [02:35<00:00,  1.25it/s, gp=0.0101, loss_critic=-1.96]\n",
            "100%|██████████| 195/195 [02:35<00:00,  1.25it/s, gp=0.0227, loss_critic=-1.93]\n",
            "100%|██████████| 195/195 [02:35<00:00,  1.25it/s, gp=0.027, loss_critic=-2.49]\n",
            "100%|██████████| 195/195 [02:35<00:00,  1.25it/s, gp=0.0115, loss_critic=-0.837]\n",
            "100%|██████████| 195/195 [02:35<00:00,  1.26it/s, gp=0.0141, loss_critic=-1.3]\n",
            "100%|██████████| 195/195 [02:35<00:00,  1.25it/s, gp=0.025, loss_critic=-1.87]\n",
            "100%|██████████| 195/195 [02:35<00:00,  1.25it/s, gp=0.00658, loss_critic=-1.61]\n",
            "100%|██████████| 195/195 [02:35<00:00,  1.25it/s, gp=0.0215, loss_critic=-0.791]\n",
            "100%|██████████| 195/195 [02:35<00:00,  1.25it/s, gp=0.064, loss_critic=-0.49]\n",
            "100%|██████████| 195/195 [02:35<00:00,  1.26it/s, gp=0.00986, loss_critic=1.09]\n",
            "100%|██████████| 195/195 [02:35<00:00,  1.25it/s, gp=0.0132, loss_critic=-1.97]\n",
            "100%|██████████| 195/195 [02:35<00:00,  1.26it/s, gp=0.0275, loss_critic=-0.282]\n",
            "100%|██████████| 195/195 [02:35<00:00,  1.25it/s, gp=0.0159, loss_critic=-0.995]\n",
            "100%|██████████| 195/195 [02:35<00:00,  1.26it/s, gp=0.0102, loss_critic=-1.05]\n",
            "100%|██████████| 195/195 [02:35<00:00,  1.25it/s, gp=0.0192, loss_critic=-2.77]\n",
            "100%|██████████| 195/195 [02:35<00:00,  1.26it/s, gp=0.0177, loss_critic=-3.07]\n",
            "100%|██████████| 195/195 [02:35<00:00,  1.26it/s, gp=0.0172, loss_critic=-0.875]\n",
            "100%|██████████| 195/195 [02:35<00:00,  1.25it/s, gp=0.00717, loss_critic=-1.6]\n",
            "100%|██████████| 195/195 [02:35<00:00,  1.25it/s, gp=0.00733, loss_critic=-2.44]\n",
            "100%|██████████| 195/195 [02:35<00:00,  1.25it/s, gp=0.0221, loss_critic=-2.61]\n",
            "100%|██████████| 195/195 [02:35<00:00,  1.25it/s, gp=0.0148, loss_critic=-0.621]\n",
            "100%|██████████| 195/195 [02:35<00:00,  1.26it/s, gp=0.0147, loss_critic=-3.36]\n",
            "100%|██████████| 195/195 [02:36<00:00,  1.25it/s, gp=0.0601, loss_critic=-2.61]\n",
            "100%|██████████| 195/195 [02:35<00:00,  1.25it/s, gp=0.00972, loss_critic=-1.85]\n",
            "100%|██████████| 195/195 [02:35<00:00,  1.25it/s, gp=0.0106, loss_critic=-1.4]\n",
            "100%|██████████| 195/195 [02:37<00:00,  1.24it/s, gp=0.00598, loss_critic=-2.05]\n",
            "100%|██████████| 195/195 [02:37<00:00,  1.24it/s, gp=0.0142, loss_critic=-2.78]\n",
            "100%|██████████| 195/195 [02:40<00:00,  1.22it/s, gp=0.018, loss_critic=-2.34]\n",
            "100%|██████████| 195/195 [02:40<00:00,  1.21it/s, gp=0.0182, loss_critic=-2.23]\n",
            "100%|██████████| 195/195 [02:40<00:00,  1.21it/s, gp=0.0176, loss_critic=-1.11]\n",
            "100%|██████████| 195/195 [02:37<00:00,  1.23it/s, gp=0.0197, loss_critic=-2.7]\n",
            "100%|██████████| 195/195 [02:36<00:00,  1.25it/s, gp=0.0211, loss_critic=-1.15]\n",
            "100%|██████████| 195/195 [02:35<00:00,  1.25it/s, gp=0.0554, loss_critic=-1.29]\n",
            "100%|██████████| 195/195 [02:35<00:00,  1.25it/s, gp=0.0102, loss_critic=-1.59]\n",
            "100%|██████████| 195/195 [02:35<00:00,  1.25it/s, gp=0.0253, loss_critic=-2.87]\n",
            "100%|██████████| 195/195 [02:36<00:00,  1.25it/s, gp=0.0126, loss_critic=-2.24]\n",
            "100%|██████████| 195/195 [02:35<00:00,  1.25it/s, gp=0.0221, loss_critic=-1.58]\n",
            "100%|██████████| 195/195 [02:36<00:00,  1.24it/s, gp=0.0144, loss_critic=-2.65]\n",
            "100%|██████████| 195/195 [02:37<00:00,  1.24it/s, gp=0.0111, loss_critic=-2.25]\n",
            "100%|██████████| 195/195 [02:37<00:00,  1.24it/s, gp=0.0174, loss_critic=-1.19]\n",
            "100%|██████████| 195/195 [02:37<00:00,  1.24it/s, gp=0.0176, loss_critic=-1.48]\n",
            "100%|██████████| 195/195 [02:36<00:00,  1.25it/s, gp=0.0253, loss_critic=-0.794]\n",
            "100%|██████████| 195/195 [02:36<00:00,  1.25it/s, gp=0.0389, loss_critic=-0.637]\n",
            "100%|██████████| 195/195 [02:37<00:00,  1.24it/s, gp=0.0351, loss_critic=-3.3]\n",
            "100%|██████████| 195/195 [02:37<00:00,  1.24it/s, gp=0.0551, loss_critic=-3.56]\n",
            "100%|██████████| 195/195 [02:37<00:00,  1.24it/s, gp=0.0285, loss_critic=-1.39]\n",
            "100%|██████████| 195/195 [02:36<00:00,  1.24it/s, gp=0.0297, loss_critic=-4.46]\n",
            "100%|██████████| 195/195 [02:37<00:00,  1.24it/s, gp=0.0221, loss_critic=-1.4]\n",
            "100%|██████████| 195/195 [02:37<00:00,  1.24it/s, gp=0.0537, loss_critic=-4.44]\n",
            "100%|██████████| 195/195 [02:37<00:00,  1.24it/s, gp=0.00997, loss_critic=-1.95]\n",
            "100%|██████████| 195/195 [02:37<00:00,  1.24it/s, gp=0.0296, loss_critic=-2.46]\n",
            "100%|██████████| 195/195 [02:37<00:00,  1.24it/s, gp=0.0388, loss_critic=-2.93]\n",
            "100%|██████████| 195/195 [02:37<00:00,  1.24it/s, gp=0.00961, loss_critic=-1.63]\n",
            "100%|██████████| 195/195 [02:37<00:00,  1.24it/s, gp=0.0157, loss_critic=-2.11]\n",
            "100%|██████████| 195/195 [02:37<00:00,  1.24it/s, gp=0.0617, loss_critic=-3.25]\n",
            "100%|██████████| 195/195 [02:37<00:00,  1.24it/s, gp=0.0206, loss_critic=-0.66]\n",
            "100%|██████████| 195/195 [02:37<00:00,  1.24it/s, gp=0.0919, loss_critic=-2.69]\n",
            "100%|██████████| 195/195 [02:37<00:00,  1.24it/s, gp=0.0522, loss_critic=-1.21]\n",
            "100%|██████████| 195/195 [02:36<00:00,  1.24it/s, gp=0.0252, loss_critic=-3.06]\n",
            "100%|██████████| 195/195 [02:37<00:00,  1.24it/s, gp=0.062, loss_critic=-1.64]\n",
            "100%|██████████| 195/195 [02:36<00:00,  1.24it/s, gp=0.0298, loss_critic=-3]\n",
            "100%|██████████| 195/195 [02:37<00:00,  1.24it/s, gp=0.0128, loss_critic=-0.217]\n",
            "100%|██████████| 195/195 [02:36<00:00,  1.25it/s, gp=0.0602, loss_critic=-2.8]\n",
            "100%|██████████| 195/195 [02:36<00:00,  1.24it/s, gp=0.189, loss_critic=-2.72]\n",
            "100%|██████████| 195/195 [02:36<00:00,  1.25it/s, gp=0.00943, loss_critic=-1.97]\n",
            "100%|██████████| 195/195 [02:35<00:00,  1.25it/s, gp=0.0245, loss_critic=-3.54]\n",
            "100%|██████████| 195/195 [02:35<00:00,  1.25it/s, gp=0.0265, loss_critic=-1.47]\n",
            "100%|██████████| 195/195 [02:35<00:00,  1.25it/s, gp=0.0304, loss_critic=-2.94]\n",
            "100%|██████████| 195/195 [02:35<00:00,  1.25it/s, gp=0.0219, loss_critic=-1.3]\n",
            "100%|██████████| 195/195 [02:35<00:00,  1.25it/s, gp=0.0343, loss_critic=-3.21]\n",
            "100%|██████████| 195/195 [02:36<00:00,  1.24it/s, gp=0.0252, loss_critic=-3.12]\n",
            "100%|██████████| 195/195 [02:37<00:00,  1.24it/s, gp=0.0231, loss_critic=-1.94]\n",
            "100%|██████████| 195/195 [02:37<00:00,  1.24it/s, gp=0.0206, loss_critic=-1.7]\n",
            "100%|██████████| 195/195 [02:35<00:00,  1.26it/s, gp=0.00938, loss_critic=-3.93]\n",
            "100%|██████████| 195/195 [02:35<00:00,  1.26it/s, gp=0.0545, loss_critic=-2.2]\n",
            "100%|██████████| 195/195 [02:35<00:00,  1.25it/s, gp=0.0113, loss_critic=-2.01]\n",
            "100%|██████████| 195/195 [02:35<00:00,  1.25it/s, gp=0.0191, loss_critic=-1]\n",
            "100%|██████████| 195/195 [02:36<00:00,  1.25it/s, gp=0.0431, loss_critic=-1.57]\n",
            "100%|██████████| 195/195 [02:36<00:00,  1.24it/s, gp=0.0291, loss_critic=-1.29]\n",
            "100%|██████████| 195/195 [02:36<00:00,  1.25it/s, gp=0.0692, loss_critic=-3.52]\n",
            "100%|██████████| 195/195 [02:36<00:00,  1.24it/s, gp=0.0617, loss_critic=-2.34]\n",
            "100%|██████████| 195/195 [02:37<00:00,  1.24it/s, gp=0.0892, loss_critic=-3.8]\n",
            "100%|██████████| 195/195 [02:36<00:00,  1.25it/s, gp=0.0232, loss_critic=-3.28]\n",
            "100%|██████████| 195/195 [02:36<00:00,  1.25it/s, gp=0.0869, loss_critic=-1.21]\n",
            "100%|██████████| 195/195 [02:35<00:00,  1.25it/s, gp=0.0265, loss_critic=-2.61]\n",
            "100%|██████████| 195/195 [02:36<00:00,  1.25it/s, gp=0.0109, loss_critic=-1.47]\n",
            "100%|██████████| 195/195 [02:35<00:00,  1.25it/s, gp=0.0451, loss_critic=-4.06]\n",
            "100%|██████████| 195/195 [02:37<00:00,  1.24it/s, gp=0.0827, loss_critic=-1.47]\n",
            "100%|██████████| 195/195 [02:38<00:00,  1.23it/s, gp=0.0175, loss_critic=-2.15]\n",
            "100%|██████████| 195/195 [02:38<00:00,  1.23it/s, gp=0.0208, loss_critic=-1.02]\n",
            "100%|██████████| 195/195 [02:38<00:00,  1.23it/s, gp=0.0121, loss_critic=-2.38]\n",
            "100%|██████████| 195/195 [02:38<00:00,  1.23it/s, gp=0.0217, loss_critic=-0.447]\n",
            "100%|██████████| 195/195 [02:37<00:00,  1.24it/s, gp=0.04, loss_critic=-1.7]\n",
            "100%|██████████| 195/195 [02:38<00:00,  1.23it/s, gp=0.0169, loss_critic=-1.05]\n",
            "100%|██████████| 195/195 [02:37<00:00,  1.24it/s, gp=0.0636, loss_critic=-4.49]\n",
            "100%|██████████| 195/195 [02:37<00:00,  1.24it/s, gp=0.0326, loss_critic=0.222]\n",
            "100%|██████████| 195/195 [02:37<00:00,  1.24it/s, gp=0.011, loss_critic=-3.01]\n",
            "100%|██████████| 195/195 [02:38<00:00,  1.23it/s, gp=0.00623, loss_critic=-1.79]\n",
            "100%|██████████| 195/195 [02:37<00:00,  1.24it/s, gp=0.0308, loss_critic=-1.67]\n",
            "100%|██████████| 195/195 [02:38<00:00,  1.23it/s, gp=0.0423, loss_critic=-1.45]\n",
            "100%|██████████| 195/195 [02:38<00:00,  1.23it/s, gp=0.0634, loss_critic=-2.1]\n",
            "100%|██████████| 195/195 [02:38<00:00,  1.23it/s, gp=0.0959, loss_critic=-0.6]\n",
            "100%|██████████| 195/195 [02:38<00:00,  1.23it/s, gp=0.021, loss_critic=-3.82]\n",
            "100%|██████████| 195/195 [02:38<00:00,  1.23it/s, gp=0.0546, loss_critic=0.481]\n",
            "100%|██████████| 195/195 [02:38<00:00,  1.23it/s, gp=0.0226, loss_critic=-2.01]\n",
            "100%|██████████| 195/195 [02:39<00:00,  1.23it/s, gp=0.0239, loss_critic=-4.82]\n",
            "100%|██████████| 195/195 [02:39<00:00,  1.22it/s, gp=0.018, loss_critic=-2.3]\n",
            "100%|██████████| 195/195 [02:38<00:00,  1.23it/s, gp=0.0248, loss_critic=-3.33]\n",
            "100%|██████████| 195/195 [02:38<00:00,  1.23it/s, gp=0.0193, loss_critic=-2.31]\n",
            "100%|██████████| 195/195 [02:38<00:00,  1.23it/s, gp=0.0455, loss_critic=-1.26]\n",
            "100%|██████████| 195/195 [02:38<00:00,  1.23it/s, gp=0.0221, loss_critic=-3.86]\n",
            "100%|██████████| 195/195 [02:39<00:00,  1.22it/s, gp=0.0306, loss_critic=-4.18]\n",
            "100%|██████████| 195/195 [02:38<00:00,  1.23it/s, gp=0.0328, loss_critic=-0.704]\n",
            "100%|██████████| 195/195 [02:38<00:00,  1.23it/s, gp=0.0768, loss_critic=-3.45]\n",
            "100%|██████████| 195/195 [02:38<00:00,  1.23it/s, gp=0.065, loss_critic=-0.681]\n",
            "100%|██████████| 195/195 [02:37<00:00,  1.24it/s, gp=0.0231, loss_critic=-2.46]\n",
            "100%|██████████| 195/195 [02:39<00:00,  1.22it/s, gp=0.0174, loss_critic=-2.18]\n",
            "100%|██████████| 195/195 [02:39<00:00,  1.22it/s, gp=0.0178, loss_critic=-3.14]\n",
            "100%|██████████| 195/195 [02:39<00:00,  1.22it/s, gp=0.0244, loss_critic=-3.78]\n",
            "100%|██████████| 195/195 [02:39<00:00,  1.22it/s, gp=0.0136, loss_critic=-1.83]\n",
            "100%|██████████| 195/195 [02:39<00:00,  1.22it/s, gp=0.0279, loss_critic=-2.24]\n",
            "100%|██████████| 195/195 [02:38<00:00,  1.23it/s, gp=0.0157, loss_critic=-0.282]\n",
            "100%|██████████| 195/195 [02:38<00:00,  1.23it/s, gp=0.0641, loss_critic=-3.09]\n",
            "100%|██████████| 195/195 [02:38<00:00,  1.23it/s, gp=0.113, loss_critic=-0.697]\n",
            "100%|██████████| 195/195 [02:40<00:00,  1.22it/s, gp=0.111, loss_critic=-3.17]\n",
            "100%|██████████| 195/195 [02:39<00:00,  1.22it/s, gp=0.0413, loss_critic=-2.24]\n",
            "100%|██████████| 195/195 [02:39<00:00,  1.22it/s, gp=0.033, loss_critic=-2.64]\n",
            "100%|██████████| 195/195 [02:38<00:00,  1.23it/s, gp=0.0202, loss_critic=-2.68]\n",
            "100%|██████████| 195/195 [02:39<00:00,  1.22it/s, gp=0.0266, loss_critic=-1.42]\n",
            "  2%|▏         | 3/195 [00:03<03:12,  1.00s/it, gp=0.0216, loss_critic=-2.98]\n"
          ]
        },
        {
          "output_type": "error",
          "ename": "KeyboardInterrupt",
          "evalue": "",
          "traceback": [
            "\u001b[0;31m---------------------------------------------------------------------------\u001b[0m",
            "\u001b[0;31mKeyboardInterrupt\u001b[0m                         Traceback (most recent call last)",
            "\u001b[0;32m<ipython-input-66-58e815c70e1a>\u001b[0m in \u001b[0;36m<cell line: 1>\u001b[0;34m()\u001b[0m\n\u001b[1;32m      1\u001b[0m \u001b[0;32mfor\u001b[0m \u001b[0mepoch\u001b[0m \u001b[0;32min\u001b[0m \u001b[0mrange\u001b[0m\u001b[0;34m(\u001b[0m\u001b[0;36m200\u001b[0m\u001b[0;34m)\u001b[0m\u001b[0;34m:\u001b[0m\u001b[0;34m\u001b[0m\u001b[0;34m\u001b[0m\u001b[0m\n\u001b[0;32m----> 2\u001b[0;31m     train_fn(\n\u001b[0m\u001b[1;32m      3\u001b[0m         \u001b[0mcritic\u001b[0m\u001b[0;34m,\u001b[0m\u001b[0;34m\u001b[0m\u001b[0;34m\u001b[0m\u001b[0m\n\u001b[1;32m      4\u001b[0m         \u001b[0mgen\u001b[0m\u001b[0;34m,\u001b[0m\u001b[0;34m\u001b[0m\u001b[0;34m\u001b[0m\u001b[0m\n\u001b[1;32m      5\u001b[0m         \u001b[0mpath_length_penalty\u001b[0m\u001b[0;34m,\u001b[0m\u001b[0;34m\u001b[0m\u001b[0;34m\u001b[0m\u001b[0m\n",
            "\u001b[0;32m<ipython-input-60-5d0d6474a53b>\u001b[0m in \u001b[0;36mtrain_fn\u001b[0;34m(critic, gen, path_length_penalty, loader, opt_critic, opt_gen, opt_mapping_network)\u001b[0m\n\u001b[1;32m     10\u001b[0m     \u001b[0mloop\u001b[0m \u001b[0;34m=\u001b[0m \u001b[0mtqdm\u001b[0m\u001b[0;34m(\u001b[0m\u001b[0mloader\u001b[0m\u001b[0;34m,\u001b[0m \u001b[0mleave\u001b[0m\u001b[0;34m=\u001b[0m\u001b[0;32mTrue\u001b[0m\u001b[0;34m)\u001b[0m\u001b[0;34m\u001b[0m\u001b[0;34m\u001b[0m\u001b[0m\n\u001b[1;32m     11\u001b[0m \u001b[0;34m\u001b[0m\u001b[0m\n\u001b[0;32m---> 12\u001b[0;31m     \u001b[0;32mfor\u001b[0m \u001b[0mbatch_idx\u001b[0m\u001b[0;34m,\u001b[0m \u001b[0;34m(\u001b[0m\u001b[0mreal\u001b[0m\u001b[0;34m,\u001b[0m \u001b[0m_\u001b[0m\u001b[0;34m)\u001b[0m \u001b[0;32min\u001b[0m \u001b[0menumerate\u001b[0m\u001b[0;34m(\u001b[0m\u001b[0mloop\u001b[0m\u001b[0;34m)\u001b[0m\u001b[0;34m:\u001b[0m\u001b[0;34m\u001b[0m\u001b[0;34m\u001b[0m\u001b[0m\n\u001b[0m\u001b[1;32m     13\u001b[0m         \u001b[0mreal\u001b[0m \u001b[0;34m=\u001b[0m \u001b[0mreal\u001b[0m\u001b[0;34m.\u001b[0m\u001b[0mto\u001b[0m\u001b[0;34m(\u001b[0m\u001b[0mDEVICE\u001b[0m\u001b[0;34m)\u001b[0m\u001b[0;34m\u001b[0m\u001b[0;34m\u001b[0m\u001b[0m\n\u001b[1;32m     14\u001b[0m         \u001b[0mcur_batch_size\u001b[0m \u001b[0;34m=\u001b[0m \u001b[0mreal\u001b[0m\u001b[0;34m.\u001b[0m\u001b[0mshape\u001b[0m\u001b[0;34m[\u001b[0m\u001b[0;36m0\u001b[0m\u001b[0;34m]\u001b[0m\u001b[0;34m\u001b[0m\u001b[0;34m\u001b[0m\u001b[0m\n",
            "\u001b[0;32m/usr/local/lib/python3.10/dist-packages/tqdm/std.py\u001b[0m in \u001b[0;36m__iter__\u001b[0;34m(self)\u001b[0m\n\u001b[1;32m   1179\u001b[0m \u001b[0;34m\u001b[0m\u001b[0m\n\u001b[1;32m   1180\u001b[0m         \u001b[0;32mtry\u001b[0m\u001b[0;34m:\u001b[0m\u001b[0;34m\u001b[0m\u001b[0;34m\u001b[0m\u001b[0m\n\u001b[0;32m-> 1181\u001b[0;31m             \u001b[0;32mfor\u001b[0m \u001b[0mobj\u001b[0m \u001b[0;32min\u001b[0m \u001b[0miterable\u001b[0m\u001b[0;34m:\u001b[0m\u001b[0;34m\u001b[0m\u001b[0;34m\u001b[0m\u001b[0m\n\u001b[0m\u001b[1;32m   1182\u001b[0m                 \u001b[0;32myield\u001b[0m \u001b[0mobj\u001b[0m\u001b[0;34m\u001b[0m\u001b[0;34m\u001b[0m\u001b[0m\n\u001b[1;32m   1183\u001b[0m                 \u001b[0;31m# Update and possibly print the progressbar.\u001b[0m\u001b[0;34m\u001b[0m\u001b[0;34m\u001b[0m\u001b[0m\n",
            "\u001b[0;32m/usr/local/lib/python3.10/dist-packages/torch/utils/data/dataloader.py\u001b[0m in \u001b[0;36m__next__\u001b[0;34m(self)\u001b[0m\n\u001b[1;32m    628\u001b[0m                 \u001b[0;31m# TODO(https://github.com/pytorch/pytorch/issues/76750)\u001b[0m\u001b[0;34m\u001b[0m\u001b[0;34m\u001b[0m\u001b[0m\n\u001b[1;32m    629\u001b[0m                 \u001b[0mself\u001b[0m\u001b[0;34m.\u001b[0m\u001b[0m_reset\u001b[0m\u001b[0;34m(\u001b[0m\u001b[0;34m)\u001b[0m  \u001b[0;31m# type: ignore[call-arg]\u001b[0m\u001b[0;34m\u001b[0m\u001b[0;34m\u001b[0m\u001b[0m\n\u001b[0;32m--> 630\u001b[0;31m             \u001b[0mdata\u001b[0m \u001b[0;34m=\u001b[0m \u001b[0mself\u001b[0m\u001b[0;34m.\u001b[0m\u001b[0m_next_data\u001b[0m\u001b[0;34m(\u001b[0m\u001b[0;34m)\u001b[0m\u001b[0;34m\u001b[0m\u001b[0;34m\u001b[0m\u001b[0m\n\u001b[0m\u001b[1;32m    631\u001b[0m             \u001b[0mself\u001b[0m\u001b[0;34m.\u001b[0m\u001b[0m_num_yielded\u001b[0m \u001b[0;34m+=\u001b[0m \u001b[0;36m1\u001b[0m\u001b[0;34m\u001b[0m\u001b[0;34m\u001b[0m\u001b[0m\n\u001b[1;32m    632\u001b[0m             \u001b[0;32mif\u001b[0m \u001b[0mself\u001b[0m\u001b[0;34m.\u001b[0m\u001b[0m_dataset_kind\u001b[0m \u001b[0;34m==\u001b[0m \u001b[0m_DatasetKind\u001b[0m\u001b[0;34m.\u001b[0m\u001b[0mIterable\u001b[0m \u001b[0;32mand\u001b[0m\u001b[0;31m \u001b[0m\u001b[0;31m\\\u001b[0m\u001b[0;34m\u001b[0m\u001b[0;34m\u001b[0m\u001b[0m\n",
            "\u001b[0;32m/usr/local/lib/python3.10/dist-packages/torch/utils/data/dataloader.py\u001b[0m in \u001b[0;36m_next_data\u001b[0;34m(self)\u001b[0m\n\u001b[1;32m    672\u001b[0m     \u001b[0;32mdef\u001b[0m \u001b[0m_next_data\u001b[0m\u001b[0;34m(\u001b[0m\u001b[0mself\u001b[0m\u001b[0;34m)\u001b[0m\u001b[0;34m:\u001b[0m\u001b[0;34m\u001b[0m\u001b[0;34m\u001b[0m\u001b[0m\n\u001b[1;32m    673\u001b[0m         \u001b[0mindex\u001b[0m \u001b[0;34m=\u001b[0m \u001b[0mself\u001b[0m\u001b[0;34m.\u001b[0m\u001b[0m_next_index\u001b[0m\u001b[0;34m(\u001b[0m\u001b[0;34m)\u001b[0m  \u001b[0;31m# may raise StopIteration\u001b[0m\u001b[0;34m\u001b[0m\u001b[0;34m\u001b[0m\u001b[0m\n\u001b[0;32m--> 674\u001b[0;31m         \u001b[0mdata\u001b[0m \u001b[0;34m=\u001b[0m \u001b[0mself\u001b[0m\u001b[0;34m.\u001b[0m\u001b[0m_dataset_fetcher\u001b[0m\u001b[0;34m.\u001b[0m\u001b[0mfetch\u001b[0m\u001b[0;34m(\u001b[0m\u001b[0mindex\u001b[0m\u001b[0;34m)\u001b[0m  \u001b[0;31m# may raise StopIteration\u001b[0m\u001b[0;34m\u001b[0m\u001b[0;34m\u001b[0m\u001b[0m\n\u001b[0m\u001b[1;32m    675\u001b[0m         \u001b[0;32mif\u001b[0m \u001b[0mself\u001b[0m\u001b[0;34m.\u001b[0m\u001b[0m_pin_memory\u001b[0m\u001b[0;34m:\u001b[0m\u001b[0;34m\u001b[0m\u001b[0;34m\u001b[0m\u001b[0m\n\u001b[1;32m    676\u001b[0m             \u001b[0mdata\u001b[0m \u001b[0;34m=\u001b[0m \u001b[0m_utils\u001b[0m\u001b[0;34m.\u001b[0m\u001b[0mpin_memory\u001b[0m\u001b[0;34m.\u001b[0m\u001b[0mpin_memory\u001b[0m\u001b[0;34m(\u001b[0m\u001b[0mdata\u001b[0m\u001b[0;34m,\u001b[0m \u001b[0mself\u001b[0m\u001b[0;34m.\u001b[0m\u001b[0m_pin_memory_device\u001b[0m\u001b[0;34m)\u001b[0m\u001b[0;34m\u001b[0m\u001b[0;34m\u001b[0m\u001b[0m\n",
            "\u001b[0;32m/usr/local/lib/python3.10/dist-packages/torch/utils/data/_utils/fetch.py\u001b[0m in \u001b[0;36mfetch\u001b[0;34m(self, possibly_batched_index)\u001b[0m\n\u001b[1;32m     49\u001b[0m                 \u001b[0mdata\u001b[0m \u001b[0;34m=\u001b[0m \u001b[0mself\u001b[0m\u001b[0;34m.\u001b[0m\u001b[0mdataset\u001b[0m\u001b[0;34m.\u001b[0m\u001b[0m__getitems__\u001b[0m\u001b[0;34m(\u001b[0m\u001b[0mpossibly_batched_index\u001b[0m\u001b[0;34m)\u001b[0m\u001b[0;34m\u001b[0m\u001b[0;34m\u001b[0m\u001b[0m\n\u001b[1;32m     50\u001b[0m             \u001b[0;32melse\u001b[0m\u001b[0;34m:\u001b[0m\u001b[0;34m\u001b[0m\u001b[0;34m\u001b[0m\u001b[0m\n\u001b[0;32m---> 51\u001b[0;31m                 \u001b[0mdata\u001b[0m \u001b[0;34m=\u001b[0m \u001b[0;34m[\u001b[0m\u001b[0mself\u001b[0m\u001b[0;34m.\u001b[0m\u001b[0mdataset\u001b[0m\u001b[0;34m[\u001b[0m\u001b[0midx\u001b[0m\u001b[0;34m]\u001b[0m \u001b[0;32mfor\u001b[0m \u001b[0midx\u001b[0m \u001b[0;32min\u001b[0m \u001b[0mpossibly_batched_index\u001b[0m\u001b[0;34m]\u001b[0m\u001b[0;34m\u001b[0m\u001b[0;34m\u001b[0m\u001b[0m\n\u001b[0m\u001b[1;32m     52\u001b[0m         \u001b[0;32melse\u001b[0m\u001b[0;34m:\u001b[0m\u001b[0;34m\u001b[0m\u001b[0;34m\u001b[0m\u001b[0m\n\u001b[1;32m     53\u001b[0m             \u001b[0mdata\u001b[0m \u001b[0;34m=\u001b[0m \u001b[0mself\u001b[0m\u001b[0;34m.\u001b[0m\u001b[0mdataset\u001b[0m\u001b[0;34m[\u001b[0m\u001b[0mpossibly_batched_index\u001b[0m\u001b[0;34m]\u001b[0m\u001b[0;34m\u001b[0m\u001b[0;34m\u001b[0m\u001b[0m\n",
            "\u001b[0;32m/usr/local/lib/python3.10/dist-packages/torch/utils/data/_utils/fetch.py\u001b[0m in \u001b[0;36m<listcomp>\u001b[0;34m(.0)\u001b[0m\n\u001b[1;32m     49\u001b[0m                 \u001b[0mdata\u001b[0m \u001b[0;34m=\u001b[0m \u001b[0mself\u001b[0m\u001b[0;34m.\u001b[0m\u001b[0mdataset\u001b[0m\u001b[0;34m.\u001b[0m\u001b[0m__getitems__\u001b[0m\u001b[0;34m(\u001b[0m\u001b[0mpossibly_batched_index\u001b[0m\u001b[0;34m)\u001b[0m\u001b[0;34m\u001b[0m\u001b[0;34m\u001b[0m\u001b[0m\n\u001b[1;32m     50\u001b[0m             \u001b[0;32melse\u001b[0m\u001b[0;34m:\u001b[0m\u001b[0;34m\u001b[0m\u001b[0;34m\u001b[0m\u001b[0m\n\u001b[0;32m---> 51\u001b[0;31m                 \u001b[0mdata\u001b[0m \u001b[0;34m=\u001b[0m \u001b[0;34m[\u001b[0m\u001b[0mself\u001b[0m\u001b[0;34m.\u001b[0m\u001b[0mdataset\u001b[0m\u001b[0;34m[\u001b[0m\u001b[0midx\u001b[0m\u001b[0;34m]\u001b[0m \u001b[0;32mfor\u001b[0m \u001b[0midx\u001b[0m \u001b[0;32min\u001b[0m \u001b[0mpossibly_batched_index\u001b[0m\u001b[0;34m]\u001b[0m\u001b[0;34m\u001b[0m\u001b[0;34m\u001b[0m\u001b[0m\n\u001b[0m\u001b[1;32m     52\u001b[0m         \u001b[0;32melse\u001b[0m\u001b[0;34m:\u001b[0m\u001b[0;34m\u001b[0m\u001b[0;34m\u001b[0m\u001b[0m\n\u001b[1;32m     53\u001b[0m             \u001b[0mdata\u001b[0m \u001b[0;34m=\u001b[0m \u001b[0mself\u001b[0m\u001b[0;34m.\u001b[0m\u001b[0mdataset\u001b[0m\u001b[0;34m[\u001b[0m\u001b[0mpossibly_batched_index\u001b[0m\u001b[0;34m]\u001b[0m\u001b[0;34m\u001b[0m\u001b[0;34m\u001b[0m\u001b[0m\n",
            "\u001b[0;32m/usr/local/lib/python3.10/dist-packages/torchvision/datasets/folder.py\u001b[0m in \u001b[0;36m__getitem__\u001b[0;34m(self, index)\u001b[0m\n\u001b[1;32m    227\u001b[0m         \"\"\"\n\u001b[1;32m    228\u001b[0m         \u001b[0mpath\u001b[0m\u001b[0;34m,\u001b[0m \u001b[0mtarget\u001b[0m \u001b[0;34m=\u001b[0m \u001b[0mself\u001b[0m\u001b[0;34m.\u001b[0m\u001b[0msamples\u001b[0m\u001b[0;34m[\u001b[0m\u001b[0mindex\u001b[0m\u001b[0;34m]\u001b[0m\u001b[0;34m\u001b[0m\u001b[0;34m\u001b[0m\u001b[0m\n\u001b[0;32m--> 229\u001b[0;31m         \u001b[0msample\u001b[0m \u001b[0;34m=\u001b[0m \u001b[0mself\u001b[0m\u001b[0;34m.\u001b[0m\u001b[0mloader\u001b[0m\u001b[0;34m(\u001b[0m\u001b[0mpath\u001b[0m\u001b[0;34m)\u001b[0m\u001b[0;34m\u001b[0m\u001b[0;34m\u001b[0m\u001b[0m\n\u001b[0m\u001b[1;32m    230\u001b[0m         \u001b[0;32mif\u001b[0m \u001b[0mself\u001b[0m\u001b[0;34m.\u001b[0m\u001b[0mtransform\u001b[0m \u001b[0;32mis\u001b[0m \u001b[0;32mnot\u001b[0m \u001b[0;32mNone\u001b[0m\u001b[0;34m:\u001b[0m\u001b[0;34m\u001b[0m\u001b[0;34m\u001b[0m\u001b[0m\n\u001b[1;32m    231\u001b[0m             \u001b[0msample\u001b[0m \u001b[0;34m=\u001b[0m \u001b[0mself\u001b[0m\u001b[0;34m.\u001b[0m\u001b[0mtransform\u001b[0m\u001b[0;34m(\u001b[0m\u001b[0msample\u001b[0m\u001b[0;34m)\u001b[0m\u001b[0;34m\u001b[0m\u001b[0;34m\u001b[0m\u001b[0m\n",
            "\u001b[0;32m/usr/local/lib/python3.10/dist-packages/torchvision/datasets/folder.py\u001b[0m in \u001b[0;36mdefault_loader\u001b[0;34m(path)\u001b[0m\n\u001b[1;32m    266\u001b[0m         \u001b[0;32mreturn\u001b[0m \u001b[0maccimage_loader\u001b[0m\u001b[0;34m(\u001b[0m\u001b[0mpath\u001b[0m\u001b[0;34m)\u001b[0m\u001b[0;34m\u001b[0m\u001b[0;34m\u001b[0m\u001b[0m\n\u001b[1;32m    267\u001b[0m     \u001b[0;32melse\u001b[0m\u001b[0;34m:\u001b[0m\u001b[0;34m\u001b[0m\u001b[0;34m\u001b[0m\u001b[0m\n\u001b[0;32m--> 268\u001b[0;31m         \u001b[0;32mreturn\u001b[0m \u001b[0mpil_loader\u001b[0m\u001b[0;34m(\u001b[0m\u001b[0mpath\u001b[0m\u001b[0;34m)\u001b[0m\u001b[0;34m\u001b[0m\u001b[0;34m\u001b[0m\u001b[0m\n\u001b[0m\u001b[1;32m    269\u001b[0m \u001b[0;34m\u001b[0m\u001b[0m\n\u001b[1;32m    270\u001b[0m \u001b[0;34m\u001b[0m\u001b[0m\n",
            "\u001b[0;32m/usr/local/lib/python3.10/dist-packages/torchvision/datasets/folder.py\u001b[0m in \u001b[0;36mpil_loader\u001b[0;34m(path)\u001b[0m\n\u001b[1;32m    246\u001b[0m     \u001b[0;32mwith\u001b[0m \u001b[0mopen\u001b[0m\u001b[0;34m(\u001b[0m\u001b[0mpath\u001b[0m\u001b[0;34m,\u001b[0m \u001b[0;34m\"rb\"\u001b[0m\u001b[0;34m)\u001b[0m \u001b[0;32mas\u001b[0m \u001b[0mf\u001b[0m\u001b[0;34m:\u001b[0m\u001b[0;34m\u001b[0m\u001b[0;34m\u001b[0m\u001b[0m\n\u001b[1;32m    247\u001b[0m         \u001b[0mimg\u001b[0m \u001b[0;34m=\u001b[0m \u001b[0mImage\u001b[0m\u001b[0;34m.\u001b[0m\u001b[0mopen\u001b[0m\u001b[0;34m(\u001b[0m\u001b[0mf\u001b[0m\u001b[0;34m)\u001b[0m\u001b[0;34m\u001b[0m\u001b[0;34m\u001b[0m\u001b[0m\n\u001b[0;32m--> 248\u001b[0;31m         \u001b[0;32mreturn\u001b[0m \u001b[0mimg\u001b[0m\u001b[0;34m.\u001b[0m\u001b[0mconvert\u001b[0m\u001b[0;34m(\u001b[0m\u001b[0;34m\"RGB\"\u001b[0m\u001b[0;34m)\u001b[0m\u001b[0;34m\u001b[0m\u001b[0;34m\u001b[0m\u001b[0m\n\u001b[0m\u001b[1;32m    249\u001b[0m \u001b[0;34m\u001b[0m\u001b[0m\n\u001b[1;32m    250\u001b[0m \u001b[0;34m\u001b[0m\u001b[0m\n",
            "\u001b[0;32m/usr/local/lib/python3.10/dist-packages/PIL/Image.py\u001b[0m in \u001b[0;36mconvert\u001b[0;34m(self, mode, matrix, dither, palette, colors)\u001b[0m\n\u001b[1;32m    935\u001b[0m         \"\"\"\n\u001b[1;32m    936\u001b[0m \u001b[0;34m\u001b[0m\u001b[0m\n\u001b[0;32m--> 937\u001b[0;31m         \u001b[0mself\u001b[0m\u001b[0;34m.\u001b[0m\u001b[0mload\u001b[0m\u001b[0;34m(\u001b[0m\u001b[0;34m)\u001b[0m\u001b[0;34m\u001b[0m\u001b[0;34m\u001b[0m\u001b[0m\n\u001b[0m\u001b[1;32m    938\u001b[0m \u001b[0;34m\u001b[0m\u001b[0m\n\u001b[1;32m    939\u001b[0m         \u001b[0mhas_transparency\u001b[0m \u001b[0;34m=\u001b[0m \u001b[0mself\u001b[0m\u001b[0;34m.\u001b[0m\u001b[0minfo\u001b[0m\u001b[0;34m.\u001b[0m\u001b[0mget\u001b[0m\u001b[0;34m(\u001b[0m\u001b[0;34m\"transparency\"\u001b[0m\u001b[0;34m)\u001b[0m \u001b[0;32mis\u001b[0m \u001b[0;32mnot\u001b[0m \u001b[0;32mNone\u001b[0m\u001b[0;34m\u001b[0m\u001b[0;34m\u001b[0m\u001b[0m\n",
            "\u001b[0;32m/usr/local/lib/python3.10/dist-packages/PIL/ImageFile.py\u001b[0m in \u001b[0;36mload\u001b[0;34m(self)\u001b[0m\n\u001b[1;32m    267\u001b[0m \u001b[0;34m\u001b[0m\u001b[0m\n\u001b[1;32m    268\u001b[0m                             \u001b[0mb\u001b[0m \u001b[0;34m=\u001b[0m \u001b[0mb\u001b[0m \u001b[0;34m+\u001b[0m \u001b[0ms\u001b[0m\u001b[0;34m\u001b[0m\u001b[0;34m\u001b[0m\u001b[0m\n\u001b[0;32m--> 269\u001b[0;31m                             \u001b[0mn\u001b[0m\u001b[0;34m,\u001b[0m \u001b[0merr_code\u001b[0m \u001b[0;34m=\u001b[0m \u001b[0mdecoder\u001b[0m\u001b[0;34m.\u001b[0m\u001b[0mdecode\u001b[0m\u001b[0;34m(\u001b[0m\u001b[0mb\u001b[0m\u001b[0;34m)\u001b[0m\u001b[0;34m\u001b[0m\u001b[0;34m\u001b[0m\u001b[0m\n\u001b[0m\u001b[1;32m    270\u001b[0m                             \u001b[0;32mif\u001b[0m \u001b[0mn\u001b[0m \u001b[0;34m<\u001b[0m \u001b[0;36m0\u001b[0m\u001b[0;34m:\u001b[0m\u001b[0;34m\u001b[0m\u001b[0;34m\u001b[0m\u001b[0m\n\u001b[1;32m    271\u001b[0m                                 \u001b[0;32mbreak\u001b[0m\u001b[0;34m\u001b[0m\u001b[0;34m\u001b[0m\u001b[0m\n",
            "\u001b[0;31mKeyboardInterrupt\u001b[0m: "
          ]
        }
      ],
      "source": [
        "for epoch in range(200):\n",
        "    train_fn(\n",
        "        critic,\n",
        "        gen,\n",
        "        path_length_penalty,\n",
        "        loader,\n",
        "        opt_critic,\n",
        "        opt_gen,\n",
        "        opt_mapping_network,\n",
        "    )\n",
        "    if epoch % 40 == 0:\n",
        "    \tgenerate_examples(gen, 100+epoch)"
      ]
    },
    {
      "cell_type": "code",
      "execution_count": null,
      "metadata": {
        "id": "vJXNgfg8x20v"
      },
      "outputs": [],
      "source": [
        "PATH='/content/models'"
      ]
    },
    {
      "cell_type": "code",
      "source": [
        "torch.save(gen.state_dict(), 'gen.pth')"
      ],
      "metadata": {
        "id": "czhuCMiIfIm-"
      },
      "execution_count": 67,
      "outputs": []
    },
    {
      "cell_type": "code",
      "source": [
        "torch.save(critic.state_dict(), 'critic.pth')"
      ],
      "metadata": {
        "id": "SA_PP_JWfLHF"
      },
      "execution_count": 68,
      "outputs": []
    },
    {
      "cell_type": "code",
      "source": [
        "torch.save(mapping_network.state_dict(), 'mp.pth')"
      ],
      "metadata": {
        "id": "9BMmEic74n6q"
      },
      "execution_count": 69,
      "outputs": []
    },
    {
      "cell_type": "code",
      "execution_count": null,
      "metadata": {
        "id": "0vLkCEuKvza7"
      },
      "outputs": [],
      "source": [
        "torch.save(gen, 'gen.pth')"
      ]
    },
    {
      "cell_type": "code",
      "execution_count": null,
      "metadata": {
        "id": "5TOVVDY6d42O"
      },
      "outputs": [],
      "source": [
        "torch.save(critic,'des.pth')"
      ]
    },
    {
      "cell_type": "code",
      "source": [
        "torch.save(critic,'des.pth')"
      ],
      "metadata": {
        "id": "Gz61WeyWeNUI"
      },
      "execution_count": null,
      "outputs": []
    },
    {
      "cell_type": "code",
      "source": [
        "torch.save(critic,'des.pth')"
      ],
      "metadata": {
        "id": "oi8ARgHLePs-"
      },
      "execution_count": null,
      "outputs": []
    },
    {
      "cell_type": "code",
      "execution_count": null,
      "metadata": {
        "colab": {
          "background_save": true,
          "base_uri": "https://localhost:8080/"
        },
        "id": "Gciivr6xfzx7",
        "outputId": "24194f5a-283a-4424-b9b0-25e578dc4808"
      },
      "outputs": [
        {
          "name": "stderr",
          "output_type": "stream",
          "text": [
            "100%|██████████| 565/565 [04:22<00:00,  2.16it/s, gp=0.00194, loss_critic=5.24]\n",
            "100%|██████████| 565/565 [04:22<00:00,  2.16it/s, gp=0.00128, loss_critic=-0.625]\n",
            "100%|██████████| 565/565 [04:22<00:00,  2.15it/s, gp=0.0045, loss_critic=-1.74]\n",
            "100%|██████████| 565/565 [04:21<00:00,  2.16it/s, gp=0.00181, loss_critic=-0.345]\n",
            "100%|██████████| 565/565 [04:21<00:00,  2.16it/s, gp=0.0997, loss_critic=-0.417]\n",
            "100%|██████████| 565/565 [04:21<00:00,  2.16it/s, gp=0.00635, loss_critic=-2.93]\n",
            "100%|██████████| 565/565 [04:21<00:00,  2.16it/s, gp=0.0138, loss_critic=2.32]\n",
            "100%|██████████| 565/565 [04:21<00:00,  2.16it/s, gp=0.0179, loss_critic=-0.769]\n",
            "100%|██████████| 565/565 [04:22<00:00,  2.16it/s, gp=0.00176, loss_critic=0.572]\n",
            "100%|██████████| 565/565 [04:21<00:00,  2.16it/s, gp=0.00139, loss_critic=-0.186]\n",
            "100%|██████████| 565/565 [04:21<00:00,  2.16it/s, gp=0.0123, loss_critic=0.531]\n",
            "100%|██████████| 565/565 [04:21<00:00,  2.16it/s, gp=0.00303, loss_critic=-7.48]\n",
            "100%|██████████| 565/565 [04:21<00:00,  2.16it/s, gp=0.00114, loss_critic=-0.168]\n",
            "100%|██████████| 565/565 [04:21<00:00,  2.16it/s, gp=0.00172, loss_critic=-0.707]\n",
            "100%|██████████| 565/565 [04:21<00:00,  2.16it/s, gp=0.000853, loss_critic=-0.284]\n",
            "100%|██████████| 565/565 [04:22<00:00,  2.16it/s, gp=0.00251, loss_critic=-0.235]\n",
            "100%|██████████| 565/565 [04:21<00:00,  2.16it/s, gp=0.0107, loss_critic=3.02]\n",
            "100%|██████████| 565/565 [04:21<00:00,  2.16it/s, gp=0.0193, loss_critic=-0.645]\n",
            "100%|██████████| 565/565 [04:21<00:00,  2.16it/s, gp=0.000632, loss_critic=0.202]\n",
            "100%|██████████| 565/565 [04:21<00:00,  2.16it/s, gp=0.00082, loss_critic=0.769]\n",
            "100%|██████████| 565/565 [04:21<00:00,  2.16it/s, gp=0.000565, loss_critic=0.168]\n",
            "100%|██████████| 565/565 [04:21<00:00,  2.16it/s, gp=0.00144, loss_critic=-0.363]\n",
            "100%|██████████| 565/565 [04:21<00:00,  2.16it/s, gp=0.00471, loss_critic=2.04]\n",
            "100%|██████████| 565/565 [04:21<00:00,  2.16it/s, gp=0.000539, loss_critic=0.338]\n",
            "100%|██████████| 565/565 [04:22<00:00,  2.16it/s, gp=0.00372, loss_critic=-0.154]\n",
            "100%|██████████| 565/565 [04:21<00:00,  2.16it/s, gp=0.00185, loss_critic=2.7]\n",
            "100%|██████████| 565/565 [04:22<00:00,  2.15it/s, gp=0.000717, loss_critic=-0.46]\n",
            "100%|██████████| 565/565 [04:21<00:00,  2.16it/s, gp=0.00053, loss_critic=-0.286]\n",
            "100%|██████████| 565/565 [04:21<00:00,  2.16it/s, gp=0.000845, loss_critic=0.507]\n",
            "100%|██████████| 565/565 [04:22<00:00,  2.16it/s, gp=0.00108, loss_critic=0.323]\n",
            "100%|██████████| 565/565 [04:21<00:00,  2.16it/s, gp=0.000705, loss_critic=-0.33]\n",
            "100%|██████████| 565/565 [04:21<00:00,  2.16it/s, gp=0.000489, loss_critic=0.0674]\n",
            "100%|██████████| 565/565 [04:21<00:00,  2.16it/s, gp=0.00106, loss_critic=-5.63]\n",
            "100%|██████████| 565/565 [04:21<00:00,  2.16it/s, gp=0.138, loss_critic=11.8]\n",
            "100%|██████████| 565/565 [04:20<00:00,  2.16it/s, gp=0.000775, loss_critic=0.166]\n",
            "100%|██████████| 565/565 [04:21<00:00,  2.16it/s, gp=0.000429, loss_critic=-0.173]\n",
            "100%|██████████| 565/565 [04:21<00:00,  2.16it/s, gp=0.000772, loss_critic=-0.153]\n",
            "100%|██████████| 565/565 [04:20<00:00,  2.17it/s, gp=0.00057, loss_critic=0.718]\n",
            "100%|██████████| 565/565 [04:20<00:00,  2.17it/s, gp=0.000377, loss_critic=-0.0573]\n",
            "100%|██████████| 565/565 [04:21<00:00,  2.16it/s, gp=0.0627, loss_critic=9.22]\n",
            "100%|██████████| 565/565 [04:20<00:00,  2.17it/s, gp=0.000589, loss_critic=-2.97]\n",
            "100%|██████████| 565/565 [04:20<00:00,  2.17it/s, gp=0.00119, loss_critic=-0.757]\n",
            "100%|██████████| 565/565 [04:20<00:00,  2.17it/s, gp=0.00122, loss_critic=0.32]\n",
            "100%|██████████| 565/565 [04:20<00:00,  2.17it/s, gp=0.00112, loss_critic=-3.98]\n",
            "100%|██████████| 565/565 [04:20<00:00,  2.17it/s, gp=0.000407, loss_critic=-1.77]\n",
            "100%|██████████| 565/565 [04:21<00:00,  2.16it/s, gp=0.000672, loss_critic=-0.0519]\n",
            "100%|██████████| 565/565 [04:20<00:00,  2.17it/s, gp=0.00136, loss_critic=-1.64]\n",
            "100%|██████████| 565/565 [04:20<00:00,  2.17it/s, gp=0.000706, loss_critic=3.5]\n",
            "100%|██████████| 565/565 [04:20<00:00,  2.17it/s, gp=0.000836, loss_critic=-0.816]\n",
            "100%|██████████| 565/565 [04:19<00:00,  2.18it/s, gp=0.00033, loss_critic=-0.977]\n"
          ]
        }
      ],
      "source": [
        "for epoch in range(50):\n",
        "    train_fn(\n",
        "        critic,\n",
        "        gen,\n",
        "        path_length_penalty,\n",
        "        loader,\n",
        "        opt_critic,\n",
        "        opt_gen,\n",
        "        opt_mapping_network,\n",
        "    )\n",
        "    if epoch % 40 == 0:\n",
        "    \tgenerate_examples(gen, 250+epoch)"
      ]
    },
    {
      "cell_type": "code",
      "execution_count": 73,
      "metadata": {
        "id": "OvrHdmPMnm-u",
        "colab": {
          "base_uri": "https://localhost:8080/"
        },
        "outputId": "148a78e1-7dcf-41c9-feaf-3d1a1e9d64cc"
      },
      "outputs": [
        {
          "output_type": "stream",
          "name": "stdout",
          "text": [
            "  adding: content/saved_examples/ (stored 0%)\n",
            "  adding: content/saved_examples/epoch140/ (stored 0%)\n",
            "  adding: content/saved_examples/epoch140/img_0.png (deflated 0%)\n",
            "  adding: content/saved_examples/epoch140/img_1.png (stored 0%)\n",
            "  adding: content/saved_examples/epoch140/img_9.png (stored 0%)\n",
            "  adding: content/saved_examples/epoch140/img_6.png (deflated 0%)\n",
            "  adding: content/saved_examples/epoch140/img_4.png (deflated 0%)\n",
            "  adding: content/saved_examples/epoch140/img_2.png (stored 0%)\n",
            "  adding: content/saved_examples/epoch140/img_3.png (stored 0%)\n",
            "  adding: content/saved_examples/epoch140/img_5.png (deflated 0%)\n",
            "  adding: content/saved_examples/epoch140/img_8.png (deflated 0%)\n",
            "  adding: content/saved_examples/epoch140/img_7.png (deflated 0%)\n",
            "  adding: content/saved_examples/epoch220/ (stored 0%)\n",
            "  adding: content/saved_examples/epoch220/img_0.png (deflated 0%)\n",
            "  adding: content/saved_examples/epoch220/img_1.png (deflated 0%)\n",
            "  adding: content/saved_examples/epoch220/img_9.png (deflated 0%)\n",
            "  adding: content/saved_examples/epoch220/img_6.png (deflated 0%)\n",
            "  adding: content/saved_examples/epoch220/img_4.png (stored 0%)\n",
            "  adding: content/saved_examples/epoch220/img_2.png (deflated 0%)\n",
            "  adding: content/saved_examples/epoch220/img_3.png (deflated 0%)\n",
            "  adding: content/saved_examples/epoch220/img_5.png (deflated 0%)\n",
            "  adding: content/saved_examples/epoch220/img_8.png (deflated 0%)\n",
            "  adding: content/saved_examples/epoch220/img_7.png (deflated 0%)\n",
            "  adding: content/saved_examples/epoch40/ (stored 0%)\n",
            "  adding: content/saved_examples/epoch40/img_0.png (stored 0%)\n",
            "  adding: content/saved_examples/epoch40/img_1.png (stored 0%)\n",
            "  adding: content/saved_examples/epoch40/img_9.png (stored 0%)\n",
            "  adding: content/saved_examples/epoch40/img_6.png (stored 0%)\n",
            "  adding: content/saved_examples/epoch40/img_4.png (deflated 0%)\n",
            "  adding: content/saved_examples/epoch40/img_2.png (deflated 0%)\n",
            "  adding: content/saved_examples/epoch40/img_3.png (deflated 0%)\n",
            "  adding: content/saved_examples/epoch40/img_5.png (deflated 0%)\n",
            "  adding: content/saved_examples/epoch40/img_8.png (stored 0%)\n",
            "  adding: content/saved_examples/epoch40/img_7.png (stored 0%)\n",
            "  adding: content/saved_examples/epoch100/ (stored 0%)\n",
            "  adding: content/saved_examples/epoch100/img_0.png (deflated 0%)\n",
            "  adding: content/saved_examples/epoch100/img_1.png (deflated 0%)\n",
            "  adding: content/saved_examples/epoch100/img_9.png (stored 0%)\n",
            "  adding: content/saved_examples/epoch100/img_6.png (deflated 0%)\n",
            "  adding: content/saved_examples/epoch100/img_4.png (deflated 0%)\n",
            "  adding: content/saved_examples/epoch100/img_2.png (deflated 0%)\n",
            "  adding: content/saved_examples/epoch100/img_3.png (deflated 0%)\n",
            "  adding: content/saved_examples/epoch100/img_5.png (deflated 0%)\n",
            "  adding: content/saved_examples/epoch100/img_8.png (deflated 0%)\n",
            "  adding: content/saved_examples/epoch100/img_7.png (stored 0%)\n",
            "  adding: content/saved_examples/epoch80/ (stored 0%)\n",
            "  adding: content/saved_examples/epoch80/img_0.png (stored 0%)\n",
            "  adding: content/saved_examples/epoch80/img_1.png (stored 0%)\n",
            "  adding: content/saved_examples/epoch80/img_9.png (stored 0%)\n",
            "  adding: content/saved_examples/epoch80/img_6.png (stored 0%)\n",
            "  adding: content/saved_examples/epoch80/img_4.png (stored 0%)\n",
            "  adding: content/saved_examples/epoch80/img_2.png (stored 0%)\n",
            "  adding: content/saved_examples/epoch80/img_3.png (deflated 0%)\n",
            "  adding: content/saved_examples/epoch80/img_5.png (stored 0%)\n",
            "  adding: content/saved_examples/epoch80/img_8.png (deflated 0%)\n",
            "  adding: content/saved_examples/epoch80/img_7.png (stored 0%)\n",
            "  adding: content/saved_examples/epoch0/ (stored 0%)\n",
            "  adding: content/saved_examples/epoch0/img_0.png (stored 0%)\n",
            "  adding: content/saved_examples/epoch0/img_1.png (stored 0%)\n",
            "  adding: content/saved_examples/epoch0/img_9.png (stored 0%)\n",
            "  adding: content/saved_examples/epoch0/img_6.png (stored 0%)\n",
            "  adding: content/saved_examples/epoch0/img_4.png (stored 0%)\n",
            "  adding: content/saved_examples/epoch0/img_2.png (stored 0%)\n",
            "  adding: content/saved_examples/epoch0/img_3.png (stored 0%)\n",
            "  adding: content/saved_examples/epoch0/img_5.png (stored 0%)\n",
            "  adding: content/saved_examples/epoch0/img_8.png (stored 0%)\n",
            "  adding: content/saved_examples/epoch0/img_7.png (stored 0%)\n",
            "  adding: content/saved_examples/epoch260/ (stored 0%)\n",
            "  adding: content/saved_examples/epoch260/img_0.png (deflated 0%)\n",
            "  adding: content/saved_examples/epoch260/img_1.png (stored 0%)\n",
            "  adding: content/saved_examples/epoch260/img_9.png (deflated 0%)\n",
            "  adding: content/saved_examples/epoch260/img_6.png (deflated 0%)\n",
            "  adding: content/saved_examples/epoch260/img_4.png (deflated 0%)\n",
            "  adding: content/saved_examples/epoch260/img_2.png (stored 0%)\n",
            "  adding: content/saved_examples/epoch260/img_3.png (deflated 1%)\n",
            "  adding: content/saved_examples/epoch260/img_5.png (stored 0%)\n",
            "  adding: content/saved_examples/epoch260/img_8.png (deflated 0%)\n",
            "  adding: content/saved_examples/epoch260/img_7.png (deflated 0%)\n",
            "  adding: content/saved_examples/epoch180/ (stored 0%)\n",
            "  adding: content/saved_examples/epoch180/img_0.png (deflated 0%)\n",
            "  adding: content/saved_examples/epoch180/img_1.png (deflated 0%)\n",
            "  adding: content/saved_examples/epoch180/img_9.png (stored 0%)\n",
            "  adding: content/saved_examples/epoch180/img_6.png (deflated 0%)\n",
            "  adding: content/saved_examples/epoch180/img_4.png (deflated 0%)\n",
            "  adding: content/saved_examples/epoch180/img_2.png (deflated 0%)\n",
            "  adding: content/saved_examples/epoch180/img_3.png (deflated 0%)\n",
            "  adding: content/saved_examples/epoch180/img_5.png (deflated 0%)\n",
            "  adding: content/saved_examples/epoch180/img_8.png (deflated 0%)\n",
            "  adding: content/saved_examples/epoch180/img_7.png (deflated 0%)\n"
          ]
        }
      ],
      "source": [
        "!zip -r /content/saved_examples.zip /content/saved_examples"
      ]
    },
    {
      "cell_type": "code",
      "execution_count": null,
      "metadata": {
        "id": "_OIfH2VknzGu"
      },
      "outputs": [],
      "source": [
        "from google.colab import files\n"
      ]
    },
    {
      "cell_type": "code",
      "execution_count": null,
      "metadata": {
        "colab": {
          "base_uri": "https://localhost:8080/",
          "height": 139
        },
        "id": "YqEHtZVeoFO3",
        "outputId": "a8bd58d4-dc77-4c3a-a13a-70138226019f"
      },
      "outputs": [
        {
          "ename": "NameError",
          "evalue": "name 'files' is not defined",
          "output_type": "error",
          "traceback": [
            "\u001b[0;31m---------------------------------------------------------------------------\u001b[0m",
            "\u001b[0;31mNameError\u001b[0m                                 Traceback (most recent call last)",
            "\u001b[0;32m<ipython-input-1-435112bb101f>\u001b[0m in \u001b[0;36m<cell line: 1>\u001b[0;34m()\u001b[0m\n\u001b[0;32m----> 1\u001b[0;31m \u001b[0mfiles\u001b[0m\u001b[0;34m.\u001b[0m\u001b[0mdownload\u001b[0m\u001b[0;34m(\u001b[0m\u001b[0;34m'genimages.zip'\u001b[0m\u001b[0;34m)\u001b[0m\u001b[0;34m\u001b[0m\u001b[0;34m\u001b[0m\u001b[0m\n\u001b[0m",
            "\u001b[0;31mNameError\u001b[0m: name 'files' is not defined"
          ]
        }
      ],
      "source": [
        "files.download('genimages.zip')"
      ]
    },
    {
      "cell_type": "code",
      "execution_count": null,
      "metadata": {
        "id": "FS7HvZW_oJ23"
      },
      "outputs": [],
      "source": [
        "files.download('des.pth')"
      ]
    },
    {
      "cell_type": "code",
      "execution_count": null,
      "metadata": {
        "id": "F4tnCqVDoMdO"
      },
      "outputs": [],
      "source": [
        "files.download('model.pth')"
      ]
    },
    {
      "cell_type": "code",
      "execution_count": null,
      "metadata": {
        "id": "GD1cU9gTALyt"
      },
      "outputs": [],
      "source": [
        "from IPython.display import Image\n",
        "\n",
        "# Replace 'path/to/your/image.jpg' with the actual path to your image file\n"
      ]
    },
    {
      "cell_type": "code",
      "execution_count": null,
      "metadata": {
        "colab": {
          "base_uri": "https://localhost:8080/",
          "height": 273
        },
        "id": "UgwztfvhLT9-",
        "outputId": "1a99b0d3-7930-45c9-8957-0c2b07c55023"
      },
      "outputs": [
        {
          "data": {
            "image/png": "[encoded data removed]",
            "text/plain": [
              "<IPython.core.display.Image object>"
            ]
          },
          "execution_count": 28,
          "metadata": {},
          "output_type": "execute_result"
        }
      ],
      "source": [
        "Image(filename='/content/saved_examples/epoch0/img_99.png')"
      ]
    },
    {
      "cell_type": "code",
      "execution_count": 74,
      "metadata": {
        "id": "rD6ZmM4vLUzs"
      },
      "outputs": [],
      "source": [
        "generate_examples(gen, 270)"
      ]
    },
    {
      "cell_type": "code",
      "source": [],
      "metadata": {
        "id": "JJp53-pM6Nfv"
      },
      "execution_count": null,
      "outputs": []
    }
  ],
  "metadata": {
    "accelerator": "GPU",
    "colab": {
      "gpuType": "A100",
      "machine_shape": "hm",
      "provenance": [],
      "include_colab_link": true
    },
    "kernelspec": {
      "display_name": "Python 3",
      "name": "python3"
    },
    "language_info": {
      "codemirror_mode": {
        "name": "ipython",
        "version": 3
      },
      "file_extension": ".py",
      "mimetype": "text/x-python",
      "name": "python",
      "nbconvert_exporter": "python",
      "pygments_lexer": "ipython3",
      "version": "3.8.18"
    }
  },
  "nbformat": 4,
  "nbformat_minor": 0
}